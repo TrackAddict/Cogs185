{
 "cells": [
  {
   "cell_type": "code",
   "execution_count": 2,
   "metadata": {
    "collapsed": true
   },
   "outputs": [],
   "source": [
    "%matplotlib inline"
   ]
  },
  {
   "cell_type": "code",
   "execution_count": 3,
   "metadata": {
    "collapsed": false
   },
   "outputs": [],
   "source": [
    "import pyprind\n",
    "\n",
    "from IPython.display import HTML\n",
    "\n",
    "\n",
    "import numpy as np\n",
    "from numpy import genfromtxt\n",
    "\n",
    "import pandas as pd\n",
    "from pandas import DataFrame\n",
    "\n",
    "import warnings\n",
    "\n",
    "import sklearn as skl\n",
    "from sklearn.preprocessing import normalize\n",
    "from sklearn.cross_validation import KFold\n",
    "from sklearn.ensemble import RandomForestClassifier as RFC\n",
    "from sklearn.tree import DecisionTreeClassifier as DTC\n",
    "from sklearn.neighbors import KNeighborsClassifier\n",
    "\n",
    "import scipy.io as sio\n",
    "from scipy.spatial import distance\n",
    "\n",
    "from scipy.misc import imread, imsave, imresize\n",
    "from scipy.io import savemat, loadmat\n",
    "import matplotlib.pyplot as plt"
   ]
  },
  {
   "cell_type": "code",
   "execution_count": 4,
   "metadata": {
    "collapsed": true
   },
   "outputs": [],
   "source": [
    "warnings.filterwarnings('ignore')"
   ]
  },
  {
   "cell_type": "code",
   "execution_count": 5,
   "metadata": {
    "collapsed": true
   },
   "outputs": [],
   "source": [
    "def split_data(dataset, train_fraction=0.8):\n",
    "    \n",
    "    train_size = (train_fraction * np.shape(dataset)[0])\n",
    "    \n",
    "    np.random.shuffle(dataset)\n",
    "    \n",
    "    columns = np.shape(dataset)[1]-1\n",
    "    x = dataset[0::,0:columns]\n",
    "    y = dataset[0::,columns:]\n",
    "    \n",
    "    x_training, x_test = x[:train_size,:], x[train_size:,:]\n",
    "    \n",
    "    y_training, y_test = y[:train_size, :], y[train_size:, :]\n",
    "    \n",
    "    return x_training, x_test, y_training, y_test"
   ]
  },
  {
   "cell_type": "code",
   "execution_count": 6,
   "metadata": {
    "collapsed": true
   },
   "outputs": [],
   "source": [
    "def eval_RandomForest(data, test_size=.8, folds=10, Num_trees=np.arange(1, 20), crit='gini'):\n",
    "    \n",
    "    columns = np.shape(data)[1]-1\n",
    "    x = data[0::,0:columns]\n",
    "    y = data[0::,columns]\n",
    "    \n",
    "    \n",
    "    temp = int(len(data) * test_size)\n",
    "    \n",
    "    kf = KFold(temp, n_folds=folds)\n",
    "    model = RFC(criterion=crit)\n",
    "    \n",
    "    \n",
    "    score_info = []\n",
    "    \n",
    "    \n",
    "    for trees in Num_trees:\n",
    "        model.n_estimators = trees\n",
    "        scores = [model.fit(x[train_indices], y[train_indices]).score(x[test_indices],y[test_indices]) for train_indices, test_indices in kf]\n",
    "        score = np.mean(scores)\n",
    "        stuff = (score, trees)\n",
    "        score_info.append(stuff)\n",
    "        \n",
    "        \n",
    "        \n",
    "    final_index = np.argmax(score_info, axis=0)\n",
    "\n",
    "    final_max = score_info[final_index[0]]\n",
    "\n",
    "    return final_max"
   ]
  },
  {
   "cell_type": "code",
   "execution_count": 7,
   "metadata": {
    "collapsed": true
   },
   "outputs": [],
   "source": [
    "def test_RandomForest(dataset, train_fract=0.8, num_folds=10, recover_model=False,\n",
    "                      T_range=np.arange(1, 5, 1), criterion='gini'):\n",
    "\n",
    "\n",
    "    (train_acc, T_opt) = eval_RandomForest(dataset, test_size=train_fract, folds=num_folds,\n",
    "                                           Num_trees=T_range, crit=criterion)\n",
    "\n",
    "    train_x, test_x, train_y, test_y = split_data(dataset, train_fract) \n",
    "    \n",
    "    rfc_model = RFC(n_estimators=T_opt)\n",
    "    \n",
    "    rfc_model.fit(train_x, train_y)\n",
    "    \n",
    "    predicted = rfc_model.predict(test_x)\n",
    "    \n",
    "    num_correct = 0\n",
    "    \n",
    "    for i in range(0, len(predicted)):\n",
    "\n",
    "        if predicted[i] == test_y[i]:\n",
    "\n",
    "            num_correct += 1\n",
    "\n",
    "    accuracy = num_correct/len(predicted)\n",
    "\n",
    "    if recover_model:\n",
    "        return accuracy, test_x, test_y, predicted, T_opt, knn_model\n",
    "    \n",
    "    else:\n",
    "        return accuracy, test_x, test_y, predicted, T_opt"
   ]
  },
  {
   "cell_type": "code",
   "execution_count": 8,
   "metadata": {
    "collapsed": false
   },
   "outputs": [
    {
     "data": {
      "text/html": [
       "<div>\n",
       "<table border=\"1\" class=\"dataframe\">\n",
       "  <thead>\n",
       "    <tr style=\"text-align: right;\">\n",
       "      <th></th>\n",
       "      <th>X_pos</th>\n",
       "      <th>Y_pos</th>\n",
       "      <th>width</th>\n",
       "      <th>height</th>\n",
       "      <th>pixels</th>\n",
       "      <th>X_mu</th>\n",
       "      <th>Y_mu</th>\n",
       "      <th>X_sig</th>\n",
       "      <th>Y_sig</th>\n",
       "      <th>XY_corr</th>\n",
       "      <th>X*X*Y</th>\n",
       "      <th>X*Y*Y</th>\n",
       "      <th>X-edge</th>\n",
       "      <th>Corr_X-edge_Y</th>\n",
       "      <th>Y_edge</th>\n",
       "      <th>Corr_Y-edge_X</th>\n",
       "      <th>Letter</th>\n",
       "    </tr>\n",
       "  </thead>\n",
       "  <tbody>\n",
       "    <tr>\n",
       "      <th>0</th>\n",
       "      <td>5</td>\n",
       "      <td>12</td>\n",
       "      <td>3</td>\n",
       "      <td>7</td>\n",
       "      <td>2</td>\n",
       "      <td>10</td>\n",
       "      <td>5</td>\n",
       "      <td>5</td>\n",
       "      <td>4</td>\n",
       "      <td>13</td>\n",
       "      <td>3</td>\n",
       "      <td>9</td>\n",
       "      <td>2</td>\n",
       "      <td>8</td>\n",
       "      <td>4</td>\n",
       "      <td>10</td>\n",
       "      <td>I</td>\n",
       "    </tr>\n",
       "    <tr>\n",
       "      <th>1</th>\n",
       "      <td>4</td>\n",
       "      <td>11</td>\n",
       "      <td>6</td>\n",
       "      <td>8</td>\n",
       "      <td>6</td>\n",
       "      <td>10</td>\n",
       "      <td>6</td>\n",
       "      <td>2</td>\n",
       "      <td>6</td>\n",
       "      <td>10</td>\n",
       "      <td>3</td>\n",
       "      <td>7</td>\n",
       "      <td>3</td>\n",
       "      <td>7</td>\n",
       "      <td>3</td>\n",
       "      <td>9</td>\n",
       "      <td>D</td>\n",
       "    </tr>\n",
       "    <tr>\n",
       "      <th>2</th>\n",
       "      <td>7</td>\n",
       "      <td>11</td>\n",
       "      <td>6</td>\n",
       "      <td>6</td>\n",
       "      <td>3</td>\n",
       "      <td>5</td>\n",
       "      <td>9</td>\n",
       "      <td>4</td>\n",
       "      <td>6</td>\n",
       "      <td>4</td>\n",
       "      <td>4</td>\n",
       "      <td>10</td>\n",
       "      <td>6</td>\n",
       "      <td>10</td>\n",
       "      <td>2</td>\n",
       "      <td>8</td>\n",
       "      <td>N</td>\n",
       "    </tr>\n",
       "    <tr>\n",
       "      <th>3</th>\n",
       "      <td>2</td>\n",
       "      <td>1</td>\n",
       "      <td>3</td>\n",
       "      <td>1</td>\n",
       "      <td>1</td>\n",
       "      <td>8</td>\n",
       "      <td>6</td>\n",
       "      <td>6</td>\n",
       "      <td>6</td>\n",
       "      <td>6</td>\n",
       "      <td>5</td>\n",
       "      <td>9</td>\n",
       "      <td>1</td>\n",
       "      <td>7</td>\n",
       "      <td>5</td>\n",
       "      <td>10</td>\n",
       "      <td>G</td>\n",
       "    </tr>\n",
       "    <tr>\n",
       "      <th>4</th>\n",
       "      <td>4</td>\n",
       "      <td>11</td>\n",
       "      <td>5</td>\n",
       "      <td>8</td>\n",
       "      <td>3</td>\n",
       "      <td>8</td>\n",
       "      <td>8</td>\n",
       "      <td>6</td>\n",
       "      <td>9</td>\n",
       "      <td>5</td>\n",
       "      <td>6</td>\n",
       "      <td>6</td>\n",
       "      <td>0</td>\n",
       "      <td>8</td>\n",
       "      <td>9</td>\n",
       "      <td>7</td>\n",
       "      <td>S</td>\n",
       "    </tr>\n",
       "  </tbody>\n",
       "</table>\n",
       "</div>"
      ],
      "text/plain": [
       "   X_pos  Y_pos  width  height  pixels  X_mu  Y_mu  X_sig  Y_sig  XY_corr  \\\n",
       "0      5     12      3       7       2    10     5      5      4       13   \n",
       "1      4     11      6       8       6    10     6      2      6       10   \n",
       "2      7     11      6       6       3     5     9      4      6        4   \n",
       "3      2      1      3       1       1     8     6      6      6        6   \n",
       "4      4     11      5       8       3     8     8      6      9        5   \n",
       "\n",
       "   X*X*Y  X*Y*Y  X-edge  Corr_X-edge_Y  Y_edge  Corr_Y-edge_X Letter  \n",
       "0      3      9       2              8       4             10      I  \n",
       "1      3      7       3              7       3              9      D  \n",
       "2      4     10       6             10       2              8      N  \n",
       "3      5      9       1              7       5             10      G  \n",
       "4      6      6       0              8       9              7      S  "
      ]
     },
     "execution_count": 8,
     "metadata": {},
     "output_type": "execute_result"
    }
   ],
   "source": [
    "data = pd.read_csv('letter-recognition.data.txt', delimiter=',', header=0)\n",
    "\n",
    "data.columns = ['Letter', 'X_pos', 'Y_pos', 'width', 'height', 'pixels', 'X_mu', 'Y_mu',\n",
    "                       'X_sig', 'Y_sig', 'XY_corr', \"X*X*Y\", \"X*Y*Y\", 'X-edge', 'Corr_X-edge_Y', 'Y_edge', 'Corr_Y-edge_X']\n",
    "                   \n",
    "new_cols = ['X_pos', 'Y_pos', 'width', 'height', 'pixels', 'X_mu', 'Y_mu',\n",
    "            'X_sig', 'Y_sig', 'XY_corr', \"X*X*Y\", \"X*Y*Y\", 'X-edge', 'Corr_X-edge_Y',\n",
    "            'Y_edge', 'Corr_Y-edge_X', 'Letter']\n",
    "                   \n",
    "train_letter = data.reindex(columns=new_cols)\n",
    "\n",
    "train_letter.head()"
   ]
  },
  {
   "cell_type": "code",
   "execution_count": 9,
   "metadata": {
    "collapsed": false
   },
   "outputs": [],
   "source": [
    "data_features = data[['X_pos', 'Y_pos', 'width', 'height', 'pixels', 'X_mu', 'Y_mu',\n",
    "            'X_sig', 'Y_sig', 'XY_corr', \"X*X*Y\", \"X*Y*Y\", 'X-edge', 'Corr_X-edge_Y',\n",
    "            'Y_edge', 'Corr_Y-edge_X']]\n",
    "\n",
    "data_classes = data[['Letter']]\n",
    "\n",
    "features = data_features.astype(float)\n",
    "\n",
    "#norm = normalize(features)"
   ]
  },
  {
   "cell_type": "code",
   "execution_count": 10,
   "metadata": {
    "collapsed": false
   },
   "outputs": [
    {
     "data": {
      "text/plain": [
       "19999"
      ]
     },
     "execution_count": 10,
     "metadata": {},
     "output_type": "execute_result"
    }
   ],
   "source": [
    "stuff = data['Letter'].values\n",
    "\n",
    "#np.unique(stuff)\n",
    "\n",
    "data_classes.size"
   ]
  },
  {
   "cell_type": "code",
   "execution_count": 22,
   "metadata": {
    "collapsed": false
   },
   "outputs": [
    {
     "data": {
      "text/plain": [
       "array(['A', 'B', 'C', 'D', 'E', 'F', 'G', 'H', 'I', 'J', 'K', 'L', 'M',\n",
       "       'N', 'O', 'P', 'Q', 'R', 'S', 'T', 'U', 'V', 'W', 'X', 'Y', 'Z'], dtype=object)"
      ]
     },
     "execution_count": 22,
     "metadata": {},
     "output_type": "execute_result"
    }
   ],
   "source": [
    "labels = np.unique(stuff)\n",
    "\n",
    "labels"
   ]
  },
  {
   "cell_type": "code",
   "execution_count": 81,
   "metadata": {
    "collapsed": false
   },
   "outputs": [
    {
     "name": "stderr",
     "output_type": "stream",
     "text": [
      "OVA_swap\n",
      "0%                          100%\n",
      "[                              ]OVA_pred\n",
      "0%                      100%\n",
      "[##############################] | ETA: 00:00:00\n",
      "Total time elapsed: 00:14:19\n",
      "[##########################] | ETA: 00:00:00\n",
      "Total time elapsed: 05:58:25\n"
     ]
    }
   ],
   "source": [
    "results = []\n",
    "\n",
    "data_classes = data[['Letter']]\n",
    "\n",
    "#n = data_classes.size\n",
    "\n",
    "n2 = len(labels)\n",
    "#\n",
    "bar = pyprind.ProgBar(n, monitor=True, title='OVA_swap')\n",
    "\n",
    "bar2 = pyprind.ProgBar(n2, monitor=True, title='OVA_pred')\n",
    "\n",
    "for j in labels:\n",
    "    \n",
    "    data_classes = data[['Letter']]\n",
    "    \n",
    "    i_ova = data_classes\n",
    "\n",
    "    n = data_classes.size\n",
    "\n",
    "    for i in range(0, n):\n",
    "        if data_classes['Letter'][i] == j:\n",
    "            i_ova['Letter'][i] = 1\n",
    "        else:\n",
    "            i_ova['Letter'][i] = -1\n",
    "        \n",
    "        if ((i_ova['Letter'][i] != -1) & (i_ova['Letter'][i] != 1)):\n",
    "            i_ova['Letter'][i] = -1\n",
    "        \n",
    "        #bar.update()\n",
    "\n",
    "    classes = i_ova.values\n",
    "\n",
    "\n",
    "    dataset = np.hstack((features, classes))\n",
    "    \n",
    "    dataset2 = dataset.astype(float)\n",
    "    \n",
    "    rfcp_accuracy, test_x, test_y, predicted, T_opt = test_RandomForest(dataset2, train_fract=0.8, recover_model=False,\n",
    "                                                             num_folds=10, T_range=np.arange(1, 50, 1))\n",
    "    \n",
    "    results.append((j, rfcp_accuracy, T_opt))\n",
    "    \n",
    "    bar2.update()\n",
    "    \n"
   ]
  },
  {
   "cell_type": "code",
   "execution_count": 12,
   "metadata": {
    "collapsed": false
   },
   "outputs": [],
   "source": [
    "results = [('A', 0.997, 49),\n",
    " ('B', 0.995, 47),\n",
    " ('C', 0.9945, 47),\n",
    " ('D', 0.9915, 37),\n",
    " ('E', 0.99375, 25),\n",
    " ('F', 0.9925, 43),\n",
    " ('G', 0.98875, 15),\n",
    " ('H', 0.99, 19),\n",
    " ('I', 0.99625, 21),\n",
    " ('J', 0.99525, 41),\n",
    " ('K', 0.9935, 31),\n",
    " ('L', 0.997, 29),\n",
    " ('M', 0.997, 30),\n",
    " ('N', 0.995, 37),\n",
    " ('O', 0.99125, 35),\n",
    " ('P', 0.99325, 44),\n",
    " ('Q', 0.995, 33),\n",
    " ('R', 0.99075, 45),\n",
    " ('S', 0.99425, 21),\n",
    " ('T', 0.9945, 27),\n",
    " ('U', 0.99525, 21),\n",
    " ('V', 0.996, 35),\n",
    " ('W', 0.99825, 45),\n",
    " ('X', 0.9935, 33),\n",
    " ('Y', 0.995, 45),\n",
    " ('Z', 0.99575, 45)]"
   ]
  },
  {
   "cell_type": "code",
   "execution_count": 13,
   "metadata": {
    "collapsed": false
   },
   "outputs": [
    {
     "data": {
      "text/plain": [
       "[('A', 0.997, 49),\n",
       " ('B', 0.995, 47),\n",
       " ('C', 0.9945, 47),\n",
       " ('D', 0.9915, 37),\n",
       " ('E', 0.99375, 25),\n",
       " ('F', 0.9925, 43),\n",
       " ('G', 0.98875, 15),\n",
       " ('H', 0.99, 19),\n",
       " ('I', 0.99625, 21),\n",
       " ('J', 0.99525, 41),\n",
       " ('K', 0.9935, 31),\n",
       " ('L', 0.997, 29),\n",
       " ('M', 0.997, 30),\n",
       " ('N', 0.995, 37),\n",
       " ('O', 0.99125, 35),\n",
       " ('P', 0.99325, 44),\n",
       " ('Q', 0.995, 33),\n",
       " ('R', 0.99075, 45),\n",
       " ('S', 0.99425, 21),\n",
       " ('T', 0.9945, 27),\n",
       " ('U', 0.99525, 21),\n",
       " ('V', 0.996, 35),\n",
       " ('W', 0.99825, 45),\n",
       " ('X', 0.9935, 33),\n",
       " ('Y', 0.995, 45),\n",
       " ('Z', 0.99575, 45)]"
      ]
     },
     "execution_count": 13,
     "metadata": {},
     "output_type": "execute_result"
    }
   ],
   "source": [
    "results"
   ]
  },
  {
   "cell_type": "code",
   "execution_count": 84,
   "metadata": {
    "collapsed": false
   },
   "outputs": [
    {
     "name": "stdout",
     "output_type": "stream",
     "text": [
      "Title: OVA_swap\n",
      "  Started: 04/10/2016 01:33:21\n",
      "  Finished: 04/10/2016 01:47:41\n",
      "  Total time elapsed: 00:14:19\n",
      "  CPU %: 98.10\n",
      "  Memory %: 1.41\n"
     ]
    }
   ],
   "source": [
    "#print(bar)"
   ]
  },
  {
   "cell_type": "code",
   "execution_count": 14,
   "metadata": {
    "collapsed": false
   },
   "outputs": [
    {
     "data": {
      "text/plain": [
       "[('A', 0.997, 49),\n",
       " ('B', 0.995, 47),\n",
       " ('C', 0.9945, 47),\n",
       " ('D', 0.9915, 37),\n",
       " ('E', 0.99375, 25),\n",
       " ('F', 0.9925, 43),\n",
       " ('G', 0.98875, 15),\n",
       " ('H', 0.99, 19),\n",
       " ('I', 0.99625, 21),\n",
       " ('J', 0.99525, 41),\n",
       " ('K', 0.9935, 31),\n",
       " ('L', 0.997, 29),\n",
       " ('M', 0.997, 30),\n",
       " ('N', 0.995, 37),\n",
       " ('O', 0.99125, 35),\n",
       " ('P', 0.99325, 44),\n",
       " ('Q', 0.995, 33),\n",
       " ('R', 0.99075, 45),\n",
       " ('S', 0.99425, 21),\n",
       " ('T', 0.9945, 27),\n",
       " ('U', 0.99525, 21),\n",
       " ('V', 0.996, 35),\n",
       " ('W', 0.99825, 45),\n",
       " ('X', 0.9935, 33),\n",
       " ('Y', 0.995, 45),\n",
       " ('Z', 0.99575, 45)]"
      ]
     },
     "execution_count": 14,
     "metadata": {},
     "output_type": "execute_result"
    }
   ],
   "source": [
    "results"
   ]
  },
  {
   "cell_type": "code",
   "execution_count": 15,
   "metadata": {
    "collapsed": false
   },
   "outputs": [
    {
     "data": {
      "text/html": [
       "<div>\n",
       "<table border=\"1\" class=\"dataframe\">\n",
       "  <thead>\n",
       "    <tr style=\"text-align: right;\">\n",
       "      <th></th>\n",
       "      <th>X_pos</th>\n",
       "      <th>Y_pos</th>\n",
       "      <th>width</th>\n",
       "      <th>height</th>\n",
       "      <th>pixels</th>\n",
       "      <th>X_mu</th>\n",
       "      <th>Y_mu</th>\n",
       "      <th>X_sig</th>\n",
       "      <th>Y_sig</th>\n",
       "      <th>XY_corr</th>\n",
       "      <th>X*X*Y</th>\n",
       "      <th>X*Y*Y</th>\n",
       "      <th>X-edge</th>\n",
       "      <th>Corr_X-edge_Y</th>\n",
       "      <th>Y_edge</th>\n",
       "      <th>Corr_Y-edge_X</th>\n",
       "      <th>Letter</th>\n",
       "    </tr>\n",
       "  </thead>\n",
       "  <tbody>\n",
       "    <tr>\n",
       "      <th>0</th>\n",
       "      <td>5</td>\n",
       "      <td>12</td>\n",
       "      <td>3</td>\n",
       "      <td>7</td>\n",
       "      <td>2</td>\n",
       "      <td>10</td>\n",
       "      <td>5</td>\n",
       "      <td>5</td>\n",
       "      <td>4</td>\n",
       "      <td>13</td>\n",
       "      <td>3</td>\n",
       "      <td>9</td>\n",
       "      <td>2</td>\n",
       "      <td>8</td>\n",
       "      <td>4</td>\n",
       "      <td>10</td>\n",
       "      <td>8</td>\n",
       "    </tr>\n",
       "    <tr>\n",
       "      <th>1</th>\n",
       "      <td>4</td>\n",
       "      <td>11</td>\n",
       "      <td>6</td>\n",
       "      <td>8</td>\n",
       "      <td>6</td>\n",
       "      <td>10</td>\n",
       "      <td>6</td>\n",
       "      <td>2</td>\n",
       "      <td>6</td>\n",
       "      <td>10</td>\n",
       "      <td>3</td>\n",
       "      <td>7</td>\n",
       "      <td>3</td>\n",
       "      <td>7</td>\n",
       "      <td>3</td>\n",
       "      <td>9</td>\n",
       "      <td>3</td>\n",
       "    </tr>\n",
       "    <tr>\n",
       "      <th>2</th>\n",
       "      <td>7</td>\n",
       "      <td>11</td>\n",
       "      <td>6</td>\n",
       "      <td>6</td>\n",
       "      <td>3</td>\n",
       "      <td>5</td>\n",
       "      <td>9</td>\n",
       "      <td>4</td>\n",
       "      <td>6</td>\n",
       "      <td>4</td>\n",
       "      <td>4</td>\n",
       "      <td>10</td>\n",
       "      <td>6</td>\n",
       "      <td>10</td>\n",
       "      <td>2</td>\n",
       "      <td>8</td>\n",
       "      <td>13</td>\n",
       "    </tr>\n",
       "    <tr>\n",
       "      <th>3</th>\n",
       "      <td>2</td>\n",
       "      <td>1</td>\n",
       "      <td>3</td>\n",
       "      <td>1</td>\n",
       "      <td>1</td>\n",
       "      <td>8</td>\n",
       "      <td>6</td>\n",
       "      <td>6</td>\n",
       "      <td>6</td>\n",
       "      <td>6</td>\n",
       "      <td>5</td>\n",
       "      <td>9</td>\n",
       "      <td>1</td>\n",
       "      <td>7</td>\n",
       "      <td>5</td>\n",
       "      <td>10</td>\n",
       "      <td>6</td>\n",
       "    </tr>\n",
       "    <tr>\n",
       "      <th>4</th>\n",
       "      <td>4</td>\n",
       "      <td>11</td>\n",
       "      <td>5</td>\n",
       "      <td>8</td>\n",
       "      <td>3</td>\n",
       "      <td>8</td>\n",
       "      <td>8</td>\n",
       "      <td>6</td>\n",
       "      <td>9</td>\n",
       "      <td>5</td>\n",
       "      <td>6</td>\n",
       "      <td>6</td>\n",
       "      <td>0</td>\n",
       "      <td>8</td>\n",
       "      <td>9</td>\n",
       "      <td>7</td>\n",
       "      <td>18</td>\n",
       "    </tr>\n",
       "  </tbody>\n",
       "</table>\n",
       "</div>"
      ],
      "text/plain": [
       "   X_pos  Y_pos  width  height  pixels  X_mu  Y_mu  X_sig  Y_sig  XY_corr  \\\n",
       "0      5     12      3       7       2    10     5      5      4       13   \n",
       "1      4     11      6       8       6    10     6      2      6       10   \n",
       "2      7     11      6       6       3     5     9      4      6        4   \n",
       "3      2      1      3       1       1     8     6      6      6        6   \n",
       "4      4     11      5       8       3     8     8      6      9        5   \n",
       "\n",
       "   X*X*Y  X*Y*Y  X-edge  Corr_X-edge_Y  Y_edge  Corr_Y-edge_X  Letter  \n",
       "0      3      9       2              8       4             10       8  \n",
       "1      3      7       3              7       3              9       3  \n",
       "2      4     10       6             10       2              8      13  \n",
       "3      5      9       1              7       5             10       6  \n",
       "4      6      6       0              8       9              7      18  "
      ]
     },
     "execution_count": 15,
     "metadata": {},
     "output_type": "execute_result"
    }
   ],
   "source": [
    "letter_train = pd.read_csv('letter-recognition.data.txt', delimiter=',')\n",
    "\n",
    "letter_train.columns = ['Letter', 'X_pos', 'Y_pos', 'width', 'height', 'pixels', 'X_mu', 'Y_mu',\n",
    "                       'X_sig', 'Y_sig', 'XY_corr', \"X*X*Y\", \"X*Y*Y\", 'X-edge', 'Corr_X-edge_Y', 'Y_edge', 'Corr_Y-edge_X']\n",
    "\n",
    "letter_classes = {'Letter': {'A': 0, 'B': 1, 'C': 2, 'D': 3, 'E': 4, 'F': 5, 'G': 6, 'H': 7, 'I': 8, 'J': 9, 'K': 10,\n",
    "                             'L': 11, 'M': 12, 'N': 13, 'O': 14, 'P': 15, 'Q': 16, 'R': 17, 'S': 18, 'T': 19,\n",
    "                            'U': 20, 'V': 21, 'W': 22, 'X': 23, 'Y': 24, 'Z': 25}}\n",
    "\n",
    "letter_train.replace(letter_classes, inplace=True)\n",
    "\n",
    "cols = letter_train.columns.tolist()\n",
    "\n",
    "new_cols = ['X_pos', 'Y_pos', 'width', 'height', 'pixels', 'X_mu', 'Y_mu',\n",
    "            'X_sig', 'Y_sig', 'XY_corr', \"X*X*Y\", \"X*Y*Y\", 'X-edge', 'Corr_X-edge_Y',\n",
    "            'Y_edge', 'Corr_Y-edge_X', 'Letter']\n",
    "\n",
    "train_letter = letter_train.reindex(columns=new_cols)\n",
    "\n",
    "train_letter.head()"
   ]
  },
  {
   "cell_type": "code",
   "execution_count": 18,
   "metadata": {
    "collapsed": false
   },
   "outputs": [
    {
     "name": "stdout",
     "output_type": "stream",
     "text": [
      "0.96175\n"
     ]
    }
   ],
   "source": [
    "dataset = train_letter.values.astype(float)\n",
    "\n",
    "rfcp_accuracy, test_x, test_y, predicted, T_opt = test_RandomForest(dataset, train_fract=0.8, recover_model=False,\n",
    "                                                             num_folds=10, T_range=np.arange(1, 50, 1))\n",
    "\n",
    "print(rfcp_accuracy)"
   ]
  },
  {
   "cell_type": "code",
   "execution_count": 31,
   "metadata": {
    "collapsed": false
   },
   "outputs": [
    {
     "data": {
      "text/plain": [
       "45"
      ]
     },
     "execution_count": 31,
     "metadata": {},
     "output_type": "execute_result"
    }
   ],
   "source": [
    "T_opt"
   ]
  },
  {
   "cell_type": "code",
   "execution_count": 16,
   "metadata": {
    "collapsed": false
   },
   "outputs": [
    {
     "data": {
      "text/plain": [
       "47"
      ]
     },
     "execution_count": 16,
     "metadata": {},
     "output_type": "execute_result"
    }
   ],
   "source": [
    "results[1][2]"
   ]
  },
  {
   "cell_type": "code",
   "execution_count": 19,
   "metadata": {
    "collapsed": false
   },
   "outputs": [
    {
     "data": {
      "text/plain": [
       "15999"
      ]
     },
     "execution_count": 19,
     "metadata": {},
     "output_type": "execute_result"
    }
   ],
   "source": [
    "train_x, test_x, train_y, test_y = split_data(dataset)\n",
    "\n",
    "len(train_x)"
   ]
  },
  {
   "cell_type": "code",
   "execution_count": 25,
   "metadata": {
    "collapsed": false
   },
   "outputs": [
    {
     "name": "stderr",
     "output_type": "stream",
     "text": [
      "OVA_pred\n",
      "0%                      100%\n",
      "[##########################] | ETA: 00:00:00\n",
      "Total time elapsed: 06:57:27\n"
     ]
    }
   ],
   "source": [
    "stuff = data['Letter'].values\n",
    "\n",
    "labels = np.unique(stuff)\n",
    "\n",
    "to_save = []\n",
    "\n",
    "data_classes = data[['Letter']]\n",
    "\n",
    "#n = data_classes.size\n",
    "\n",
    "n2 = len(labels)\n",
    "\n",
    "bar = pyprind.ProgBar(n2, monitor=True, title='OVA_pred')\n",
    "\n",
    "for j in range(0, n2):\n",
    "    \n",
    "    T_opt = results[j][2]\n",
    "    \n",
    "    data_classes = data[['Letter']]\n",
    "    \n",
    "    i_ova = data_classes\n",
    "\n",
    "    n = data_classes.size\n",
    "\n",
    "    for i in range(0, n):\n",
    "        if data_classes['Letter'][i] == labels[j]:\n",
    "            i_ova['Letter'][i] = 1\n",
    "        else:\n",
    "            i_ova['Letter'][i] = -1\n",
    "        \n",
    "        if ((i_ova['Letter'][i] != -1) & (i_ova['Letter'][i] != 1)):\n",
    "            i_ova['Letter'][i] = -1\n",
    "        \n",
    "        \n",
    "\n",
    "    classes = i_ova.values\n",
    "\n",
    "    dataset = np.hstack((features, classes))\n",
    "    \n",
    "    dataset2 = dataset.astype(float)\n",
    "    \n",
    "    train_x, test_x, train_y, test_y = split_data(dataset2)\n",
    "    \n",
    "    new_rfc = RFC(n_estimators=T_opt, criterion='entropy')\n",
    "\n",
    "    new_rfc.fit(train_x, train_y)\n",
    "\n",
    "    rfc_test_predicted = new_rfc.predict(test_x)\n",
    "\n",
    "    num_correct = 0\n",
    "\n",
    "    for l in range(0, len(rfc_test_predicted)):\n",
    "        \n",
    "        if rfc_test_predicted[l] == test_y[l]:\n",
    "            \n",
    "                num_correct += 1\n",
    "    \n",
    "    final_accuracy = num_correct/len(rfc_test_predicted)\n",
    "    \n",
    "    to_save.append((labels[j], T_opt, final_accuracy))\n",
    "    \n",
    "    bar.update()"
   ]
  },
  {
   "cell_type": "code",
   "execution_count": 26,
   "metadata": {
    "collapsed": false
   },
   "outputs": [
    {
     "data": {
      "text/plain": [
       "[('A', 49, 0.99925),\n",
       " ('B', 47, 0.99425),\n",
       " ('C', 47, 0.99575),\n",
       " ('D', 37, 0.993),\n",
       " ('E', 25, 0.99475),\n",
       " ('F', 43, 0.992),\n",
       " ('G', 15, 0.99325),\n",
       " ('H', 19, 0.9915),\n",
       " ('I', 21, 0.99675),\n",
       " ('J', 41, 0.9945),\n",
       " ('K', 31, 0.99325),\n",
       " ('L', 29, 0.99675),\n",
       " ('M', 30, 0.996),\n",
       " ('N', 37, 0.99675),\n",
       " ('O', 35, 0.99325),\n",
       " ('P', 44, 0.99425),\n",
       " ('Q', 33, 0.99525),\n",
       " ('R', 45, 0.99125),\n",
       " ('S', 21, 0.995),\n",
       " ('T', 27, 0.99575),\n",
       " ('U', 21, 0.997),\n",
       " ('V', 35, 0.9965),\n",
       " ('W', 45, 0.99775),\n",
       " ('X', 33, 0.99725),\n",
       " ('Y', 45, 0.99625),\n",
       " ('Z', 45, 0.99725)]"
      ]
     },
     "execution_count": 26,
     "metadata": {},
     "output_type": "execute_result"
    }
   ],
   "source": [
    "to_save"
   ]
  },
  {
   "cell_type": "code",
   "execution_count": 30,
   "metadata": {
    "collapsed": false
   },
   "outputs": [
    {
     "data": {
      "text/plain": [
       "502.0"
      ]
     },
     "execution_count": 30,
     "metadata": {},
     "output_type": "execute_result"
    }
   ],
   "source": [
    "acc = len(to_save)\n",
    "\n",
    "samples = len(test_y)\n",
    "\n",
    "err = 0\n",
    "\n",
    "for i in range(0, acc):\n",
    "    \n",
    "    err += (samples - (to_save[i][2] * samples))\n",
    "    \n",
    "err"
   ]
  },
  {
   "cell_type": "code",
   "execution_count": 54,
   "metadata": {
    "collapsed": false
   },
   "outputs": [
    {
     "data": {
      "text/plain": [
       "[('A', 49, 0.99925),\n",
       " ('B', 47, 0.99425),\n",
       " ('C', 47, 0.99575),\n",
       " ('D', 37, 0.993),\n",
       " ('E', 25, 0.99475),\n",
       " ('F', 43, 0.992),\n",
       " ('G', 15, 0.99325),\n",
       " ('H', 19, 0.9915),\n",
       " ('I', 21, 0.99675),\n",
       " ('J', 41, 0.9945),\n",
       " ('K', 31, 0.99325),\n",
       " ('L', 29, 0.99675),\n",
       " ('M', 30, 0.996),\n",
       " ('N', 37, 0.99675),\n",
       " ('O', 35, 0.99325),\n",
       " ('P', 44, 0.99425),\n",
       " ('Q', 33, 0.99525),\n",
       " ('R', 45, 0.99125),\n",
       " ('S', 21, 0.995),\n",
       " ('T', 27, 0.99575),\n",
       " ('U', 21, 0.997),\n",
       " ('V', 35, 0.9965),\n",
       " ('W', 45, 0.99775),\n",
       " ('X', 33, 0.99725),\n",
       " ('Y', 45, 0.99625),\n",
       " ('Z', 45, 0.99725)]"
      ]
     },
     "execution_count": 54,
     "metadata": {},
     "output_type": "execute_result"
    }
   ],
   "source": [
    "to_save"
   ]
  },
  {
   "cell_type": "code",
   "execution_count": 51,
   "metadata": {
    "collapsed": false
   },
   "outputs": [
    {
     "data": {
      "text/plain": [
       "34.615384615384613"
      ]
     },
     "execution_count": 51,
     "metadata": {},
     "output_type": "execute_result"
    }
   ],
   "source": [
    "toSave_T = np.transpose(to_save)\n",
    "\n",
    "tree_num = toSave_T[1].astype(float)\n",
    "\n",
    "np.mean(tree_num)"
   ]
  },
  {
   "cell_type": "code",
   "execution_count": 56,
   "metadata": {
    "collapsed": false
   },
   "outputs": [
    {
     "data": {
      "text/plain": [
       "0.99924999999999997"
      ]
     },
     "execution_count": 56,
     "metadata": {},
     "output_type": "execute_result"
    }
   ],
   "source": [
    "scores = toSave_T[2].astype(float)\n",
    "\n",
    "np.max(scores)"
   ]
  },
  {
   "cell_type": "code",
   "execution_count": null,
   "metadata": {
    "collapsed": true
   },
   "outputs": [],
   "source": []
  }
 ],
 "metadata": {
  "kernelspec": {
   "display_name": "Python 3",
   "language": "python",
   "name": "python3"
  },
  "language_info": {
   "codemirror_mode": {
    "name": "ipython",
    "version": 3
   },
   "file_extension": ".py",
   "mimetype": "text/x-python",
   "name": "python",
   "nbconvert_exporter": "python",
   "pygments_lexer": "ipython3",
   "version": "3.4.3"
  }
 },
 "nbformat": 4,
 "nbformat_minor": 0
}
