{
 "cells": [
  {
   "cell_type": "code",
   "execution_count": 68,
   "metadata": {
    "collapsed": true
   },
   "outputs": [],
   "source": [
    "%matplotlib inline\n",
    "\n",
    "import pyprind\n",
    "\n",
    "from IPython.display import HTML\n",
    "\n",
    "\n",
    "import numpy as np\n",
    "from numpy import genfromtxt\n",
    "\n",
    "import pandas as pd\n",
    "from pandas import DataFrame\n",
    "\n",
    "import warnings\n",
    "\n",
    "import sklearn as skl\n",
    "from sklearn.preprocessing import normalize\n",
    "from sklearn.cross_validation import KFold\n",
    "from sklearn.ensemble import RandomForestClassifier as RFC\n",
    "from sklearn.tree import DecisionTreeClassifier as DTC\n",
    "from sklearn.neighbors import KNeighborsClassifier\n",
    "from sklearn.svm import SVC\n",
    "\n",
    "import scipy.io as sio\n",
    "from scipy.spatial import distance\n",
    "\n",
    "from scipy.misc import imread, imsave, imresize\n",
    "from scipy.io import savemat, loadmat\n",
    "import matplotlib.pyplot as plt"
   ]
  },
  {
   "cell_type": "code",
   "execution_count": 69,
   "metadata": {
    "collapsed": true
   },
   "outputs": [],
   "source": [
    "warnings.filterwarnings('ignore')"
   ]
  },
  {
   "cell_type": "code",
   "execution_count": 70,
   "metadata": {
    "collapsed": true
   },
   "outputs": [],
   "source": [
    "def split_data(dataset, train_fraction=0.8):\n",
    "    \n",
    "    train_size = (train_fraction * np.shape(dataset)[0])\n",
    "    \n",
    "    np.random.shuffle(dataset)\n",
    "    \n",
    "    columns = np.shape(dataset)[1]-1\n",
    "    x = dataset[0::,0:columns]\n",
    "    y = dataset[0::,columns:]\n",
    "    \n",
    "    x_training, x_test = x[:train_size,:], x[train_size:,:]\n",
    "    \n",
    "    y_training, y_test = y[:train_size, :], y[train_size:, :]\n",
    "    \n",
    "    return x_training, x_test, y_training, y_test"
   ]
  },
  {
   "cell_type": "code",
   "execution_count": 71,
   "metadata": {
    "collapsed": true
   },
   "outputs": [],
   "source": [
    "def eval_RandomForest(data, test_size=.8, folds=10, Num_trees=np.arange(1, 20), crit='gini'):\n",
    "    \n",
    "    columns = np.shape(data)[1]-1\n",
    "    x = data[0::,0:columns]\n",
    "    y = data[0::,columns]\n",
    "    \n",
    "    \n",
    "    temp = int(len(data) * test_size)\n",
    "    \n",
    "    kf = KFold(temp, n_folds=folds)\n",
    "    model = RFC(criterion=crit)\n",
    "    \n",
    "    \n",
    "    score_info = []\n",
    "    \n",
    "    \n",
    "    for trees in Num_trees:\n",
    "        model.n_estimators = trees\n",
    "        scores = [model.fit(x[train_indices], y[train_indices]).score(x[test_indices],y[test_indices]) for train_indices, test_indices in kf]\n",
    "        score = np.mean(scores)\n",
    "        stuff = (score, trees)\n",
    "        score_info.append(stuff)\n",
    "        \n",
    "        print(\"CV in progress\")\n",
    "        \n",
    "        \n",
    "        \n",
    "    final_index = np.argmax(score_info, axis=0)\n",
    "\n",
    "    final_max = score_info[final_index[0]]\n",
    "    \n",
    "    print(\"Cross-Validation done\")\n",
    "\n",
    "    return final_max"
   ]
  },
  {
   "cell_type": "code",
   "execution_count": 72,
   "metadata": {
    "collapsed": true
   },
   "outputs": [],
   "source": [
    "def test_RandomForest(dataset, train_fract=0.8, num_folds=10, recover_model=False,\n",
    "                      T_range=np.arange(1, 5, 1), criterion='gini'):\n",
    "\n",
    "\n",
    "    (train_acc, T_opt) = eval_RandomForest(dataset, test_size=train_fract, folds=num_folds,\n",
    "                                           Num_trees=T_range, crit=criterion)\n",
    "\n",
    "    train_x, test_x, train_y, test_y = split_data(dataset, train_fract) \n",
    "    \n",
    "    rfc_model = RFC(n_estimators=T_opt)\n",
    "    \n",
    "    rfc_model.fit(train_x, train_y)\n",
    "    \n",
    "    print(\"Training done\")\n",
    "    \n",
    "    predicted = rfc_model.predict(test_x)\n",
    "    \n",
    "    num_correct = 0\n",
    "    \n",
    "    for i in range(0, len(predicted)):\n",
    "\n",
    "        if predicted[i] == test_y[i]:\n",
    "\n",
    "            num_correct += 1\n",
    "\n",
    "    accuracy = num_correct/len(predicted)\n",
    "\n",
    "    if recover_model:\n",
    "        return accuracy, test_x, test_y, predicted, T_opt, rfc_model\n",
    "    \n",
    "    else:\n",
    "        return accuracy, test_x, test_y, predicted, T_opt"
   ]
  },
  {
   "cell_type": "code",
   "execution_count": 73,
   "metadata": {
    "collapsed": false
   },
   "outputs": [],
   "source": [
    "data = pd.read_csv('letter_sampled.csv')\n",
    "\n",
    "data.shape\n",
    "\n",
    "data = data.values"
   ]
  },
  {
   "cell_type": "code",
   "execution_count": 74,
   "metadata": {
    "collapsed": false
   },
   "outputs": [
    {
     "data": {
      "text/plain": [
       "array([[ 6371,  6372,   835, ...,     0,     0,    14],\n",
       "       [20998,    -1,  2891, ...,     0,     0,    16],\n",
       "       [ 4758,    -1,   586, ...,     0,     0,     7],\n",
       "       ..., \n",
       "       [22822, 22823,  3166, ...,     0,     0,    14],\n",
       "       [20843, 20844,  2840, ...,     0,     0,    21],\n",
       "       [22954, 22955,  3190, ...,     0,     0,     5]], dtype=int64)"
      ]
     },
     "execution_count": 74,
     "metadata": {},
     "output_type": "execute_result"
    }
   ],
   "source": [
    "data"
   ]
  },
  {
   "cell_type": "code",
   "execution_count": 75,
   "metadata": {
    "collapsed": false
   },
   "outputs": [
    {
     "name": "stdout",
     "output_type": "stream",
     "text": [
      "CV in progress\n",
      "CV in progress\n",
      "CV in progress\n",
      "CV in progress\n",
      "CV in progress\n",
      "CV in progress\n",
      "CV in progress\n",
      "CV in progress\n",
      "CV in progress\n",
      "CV in progress\n",
      "CV in progress\n",
      "CV in progress\n",
      "CV in progress\n",
      "CV in progress\n",
      "CV in progress\n",
      "CV in progress\n",
      "CV in progress\n",
      "CV in progress\n",
      "CV in progress\n",
      "CV in progress\n",
      "CV in progress\n",
      "CV in progress\n",
      "CV in progress\n",
      "CV in progress\n",
      "CV in progress\n",
      "CV in progress\n",
      "CV in progress\n",
      "CV in progress\n",
      "CV in progress\n",
      "CV in progress\n",
      "CV in progress\n",
      "CV in progress\n",
      "CV in progress\n",
      "CV in progress\n",
      "CV in progress\n",
      "CV in progress\n",
      "CV in progress\n",
      "CV in progress\n",
      "CV in progress\n",
      "CV in progress\n",
      "CV in progress\n",
      "CV in progress\n",
      "CV in progress\n",
      "CV in progress\n",
      "CV in progress\n",
      "CV in progress\n",
      "CV in progress\n",
      "CV in progress\n",
      "CV in progress\n",
      "CV in progress\n",
      "CV in progress\n",
      "CV in progress\n",
      "CV in progress\n",
      "CV in progress\n",
      "CV in progress\n",
      "CV in progress\n",
      "CV in progress\n",
      "CV in progress\n",
      "CV in progress\n",
      "CV in progress\n",
      "CV in progress\n",
      "CV in progress\n",
      "CV in progress\n",
      "CV in progress\n",
      "CV in progress\n",
      "CV in progress\n",
      "CV in progress\n",
      "CV in progress\n",
      "CV in progress\n",
      "CV in progress\n",
      "CV in progress\n",
      "CV in progress\n",
      "CV in progress\n",
      "CV in progress\n",
      "CV in progress\n",
      "CV in progress\n",
      "CV in progress\n",
      "CV in progress\n",
      "CV in progress\n",
      "CV in progress\n",
      "CV in progress\n",
      "CV in progress\n",
      "CV in progress\n",
      "CV in progress\n",
      "CV in progress\n",
      "CV in progress\n",
      "CV in progress\n",
      "CV in progress\n",
      "CV in progress\n",
      "CV in progress\n",
      "CV in progress\n",
      "CV in progress\n",
      "CV in progress\n",
      "CV in progress\n",
      "CV in progress\n",
      "CV in progress\n",
      "CV in progress\n",
      "CV in progress\n",
      "CV in progress\n",
      "CV in progress\n",
      "CV in progress\n",
      "CV in progress\n",
      "CV in progress\n",
      "CV in progress\n",
      "CV in progress\n",
      "CV in progress\n",
      "CV in progress\n",
      "CV in progress\n",
      "CV in progress\n",
      "CV in progress\n",
      "CV in progress\n",
      "CV in progress\n",
      "CV in progress\n",
      "CV in progress\n",
      "CV in progress\n",
      "CV in progress\n",
      "CV in progress\n",
      "CV in progress\n",
      "CV in progress\n",
      "CV in progress\n",
      "CV in progress\n",
      "CV in progress\n",
      "CV in progress\n",
      "CV in progress\n",
      "CV in progress\n",
      "CV in progress\n",
      "CV in progress\n",
      "CV in progress\n",
      "CV in progress\n",
      "CV in progress\n",
      "CV in progress\n",
      "CV in progress\n",
      "CV in progress\n",
      "CV in progress\n",
      "CV in progress\n",
      "CV in progress\n",
      "CV in progress\n",
      "CV in progress\n",
      "CV in progress\n",
      "CV in progress\n",
      "CV in progress\n",
      "CV in progress\n",
      "CV in progress\n",
      "CV in progress\n",
      "CV in progress\n",
      "CV in progress\n",
      "CV in progress\n",
      "CV in progress\n",
      "CV in progress\n",
      "CV in progress\n",
      "CV in progress\n",
      "CV in progress\n",
      "CV in progress\n",
      "CV in progress\n",
      "CV in progress\n",
      "CV in progress\n",
      "CV in progress\n",
      "CV in progress\n",
      "CV in progress\n",
      "CV in progress\n",
      "CV in progress\n",
      "CV in progress\n",
      "CV in progress\n",
      "CV in progress\n",
      "CV in progress\n",
      "CV in progress\n",
      "CV in progress\n",
      "CV in progress\n",
      "CV in progress\n",
      "CV in progress\n",
      "CV in progress\n",
      "CV in progress\n",
      "CV in progress\n",
      "CV in progress\n",
      "CV in progress\n",
      "CV in progress\n",
      "CV in progress\n",
      "CV in progress\n",
      "CV in progress\n",
      "CV in progress\n",
      "CV in progress\n",
      "CV in progress\n",
      "CV in progress\n",
      "CV in progress\n",
      "CV in progress\n",
      "CV in progress\n",
      "CV in progress\n",
      "CV in progress\n",
      "CV in progress\n",
      "CV in progress\n",
      "CV in progress\n",
      "CV in progress\n",
      "CV in progress\n",
      "CV in progress\n",
      "CV in progress\n",
      "CV in progress\n",
      "CV in progress\n",
      "CV in progress\n",
      "CV in progress\n",
      "Cross-Validation done\n",
      "Training done\n"
     ]
    }
   ],
   "source": [
    "accuracy, test_x, test_y, predicted, T_opt = test_RandomForest(data, train_fract=0.8, num_folds=10, recover_model=False,\n",
    "                      T_range=np.arange(1, 200, 1), criterion='gini')"
   ]
  },
  {
   "cell_type": "code",
   "execution_count": 76,
   "metadata": {
    "collapsed": false
   },
   "outputs": [
    {
     "data": {
      "text/plain": [
       "0.7957813998082455"
      ]
     },
     "execution_count": 76,
     "metadata": {},
     "output_type": "execute_result"
    }
   ],
   "source": [
    "accuracy"
   ]
  },
  {
   "cell_type": "code",
   "execution_count": 77,
   "metadata": {
    "collapsed": false
   },
   "outputs": [
    {
     "data": {
      "text/plain": [
       "array([15,  1, 18, ...,  5,  9,  1], dtype=int64)"
      ]
     },
     "execution_count": 77,
     "metadata": {},
     "output_type": "execute_result"
    }
   ],
   "source": [
    "predicted"
   ]
  },
  {
   "cell_type": "code",
   "execution_count": 78,
   "metadata": {
    "collapsed": false
   },
   "outputs": [
    {
     "data": {
      "text/plain": [
       "189"
      ]
     },
     "execution_count": 78,
     "metadata": {},
     "output_type": "execute_result"
    }
   ],
   "source": [
    "T_opt"
   ]
  },
  {
   "cell_type": "code",
   "execution_count": null,
   "metadata": {
    "collapsed": true
   },
   "outputs": [],
   "source": []
  }
 ],
 "metadata": {
  "kernelspec": {
   "display_name": "Python 3",
   "language": "python",
   "name": "python3"
  },
  "language_info": {
   "codemirror_mode": {
    "name": "ipython",
    "version": 3
   },
   "file_extension": ".py",
   "mimetype": "text/x-python",
   "name": "python",
   "nbconvert_exporter": "python",
   "pygments_lexer": "ipython3",
   "version": "3.4.3"
  }
 },
 "nbformat": 4,
 "nbformat_minor": 0
}
