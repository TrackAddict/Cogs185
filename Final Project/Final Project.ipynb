{
 "cells": [
  {
   "cell_type": "code",
   "execution_count": 1,
   "metadata": {
    "collapsed": false
   },
   "outputs": [
    {
     "name": "stdout",
     "output_type": "stream",
     "text": [
      "Installed autotime.py. To use it, type:\n",
      "  %load_ext autotime\n"
     ]
    }
   ],
   "source": [
    "%matplotlib inline\n",
    "\n",
    "%install_ext https://raw.github.com/cpcloud/ipython-autotime/master/autotime.py\n",
    "%load_ext autotime"
   ]
  },
  {
   "cell_type": "code",
   "execution_count": 2,
   "metadata": {
    "collapsed": false
   },
   "outputs": [
    {
     "name": "stdout",
     "output_type": "stream",
     "text": [
      "time: 7.76 s\n"
     ]
    },
    {
     "name": "stderr",
     "output_type": "stream",
     "text": [
      "Using Theano backend.\n"
     ]
    }
   ],
   "source": [
    "import pyprind\n",
    "\n",
    "from IPython.display import HTML\n",
    "\n",
    "\n",
    "import numpy as np\n",
    "from numpy import genfromtxt\n",
    "\n",
    "import pandas as pd\n",
    "from pandas import DataFrame\n",
    "from pandas import Panel\n",
    "\n",
    "import warnings\n",
    "\n",
    "# import sklearn as skl\n",
    "# #from sklearn.preprocessing import normalize\n",
    "# from sklearn.cross_validation import KFold\n",
    "# from sklearn.ensemble import RandomForestClassifier as RFC\n",
    "# from sklearn.tree import DecisionTreeClassifier as DTC\n",
    "# from sklearn.neighbors import KNeighborsClassifier\n",
    "# from sklearn.preprocessing import OneHotEncoder\n",
    "\n",
    "import scipy.io as sio\n",
    "from scipy.spatial import distance\n",
    "\n",
    "from scipy.misc import imread, imsave, imresize\n",
    "from scipy.io import savemat, loadmat\n",
    "import matplotlib.pyplot as plt\n",
    "\n",
    "import theano\n",
    "\n",
    "import keras\n",
    "from keras.models import *\n",
    "from keras.layers import *\n",
    "from keras.layers.recurrent import *\n",
    "from keras.utils.np_utils import to_categorical\n",
    "from keras.optimizers import SGD\n",
    "\n",
    "import pybrain\n",
    "from pybrain.tools import *\n",
    "from pybrain.tools import neuralnets as nn"
   ]
  },
  {
   "cell_type": "code",
   "execution_count": 3,
   "metadata": {
    "collapsed": false
   },
   "outputs": [
    {
     "name": "stdout",
     "output_type": "stream",
     "text": [
      "time: 1 ms\n"
     ]
    }
   ],
   "source": [
    "warnings.filterwarnings('ignore')"
   ]
  },
  {
   "cell_type": "code",
   "execution_count": 5,
   "metadata": {
    "collapsed": false
   },
   "outputs": [
    {
     "data": {
      "text/plain": [
       "(2072, 11)"
      ]
     },
     "execution_count": 5,
     "metadata": {},
     "output_type": "execute_result"
    },
    {
     "name": "stdout",
     "output_type": "stream",
     "text": [
      "time: 66.5 ms\n"
     ]
    }
   ],
   "source": [
    "Michael = pd.read_csv('Trials/Michael.csv', header=None)\n",
    "\n",
    "Michael.columns = ['Delta', 'Theta', 'Low_Alpha', 'High_Alpha', 'Low_Beta', 'High_Beta',\n",
    "                         'Low_Gamma', 'High_Gamma', 'Attention', 'Meditation', 'Label']\n",
    "\n",
    "Brooke = pd.read_csv('Trials/Brooke.csv', header=None)\n",
    "\n",
    "Brooke.columns = ['Delta', 'Theta', 'Low_Alpha', 'High_Alpha', 'Low_Beta', 'High_Beta',\n",
    "                  'Low_Gamma', 'High_Gamma', 'Attention', 'Meditation']\n",
    "\n",
    "Mark = pd.read_csv('Trials/Mark.csv', header=None)\n",
    "\n",
    "Mark.columns = ['Delta', 'Theta', 'Low_Alpha', 'High_Alpha', 'Low_Beta', 'High_Beta',\n",
    "                         'Low_Gamma', 'High_Gamma', 'Attention', 'Meditation', 'Label']\n",
    "\n",
    "Mark.shape"
   ]
  },
  {
   "cell_type": "code",
   "execution_count": 6,
   "metadata": {
    "collapsed": false
   },
   "outputs": [
    {
     "name": "stdout",
     "output_type": "stream",
     "text": [
      "time: 15.5 ms\n"
     ]
    }
   ],
   "source": [
    "Test_x = pd.read_csv('Trials/results.csv', header=None)\n",
    "\n",
    "Test_x.columns = ['Delta', 'Theta', 'Low_Alpha', 'High_Alpha', 'Low_Beta', 'High_Beta',\n",
    "                         'Low_Gamma', 'High_Gamma', 'Attention', 'Meditation']\n",
    "\n",
    "Test_x['Label'] = 1\n",
    "\n"
   ]
  },
  {
   "cell_type": "code",
   "execution_count": 7,
   "metadata": {
    "collapsed": false
   },
   "outputs": [
    {
     "data": {
      "text/plain": [
       "array([ 1.,  1.,  1.,  1.,  1.,  1.,  1.,  1.,  1.,  1.,  1.,  1.,  1.,\n",
       "        1.,  1.,  1.,  1.,  1.,  1.,  1.,  1.,  1.,  1.,  1.,  1.,  1.,\n",
       "        1.,  1.,  1.,  1.,  1.,  1.,  1.,  1.,  1.,  1.,  1.,  1.,  1.,\n",
       "        1.,  1.,  1.,  1.,  1.,  1.,  1.,  1.,  1.,  1.,  1.,  1.,  1.,\n",
       "        1.,  1.,  1.,  1.,  1.,  1.,  1.,  1.,  1.,  1.,  1.,  1.,  1.,\n",
       "        1.,  1.,  1.,  1.,  1.,  1.,  1.,  1.,  1.,  1.,  1.,  1.,  1.,\n",
       "        1.,  1.,  1.,  1.,  1.,  1.,  1.,  1.,  1.,  1.,  1.,  1.,  1.,\n",
       "        1.,  1.,  1.,  1.,  1.,  1.,  1.,  1.,  1.,  1.,  1.,  1.,  1.,\n",
       "        1.,  1.,  1.,  1.,  1.,  1.,  1.,  1.,  1.,  1.,  1.,  1.,  1.,\n",
       "        1.,  1.,  1.,  1.])"
      ]
     },
     "execution_count": 7,
     "metadata": {},
     "output_type": "execute_result"
    },
    {
     "name": "stdout",
     "output_type": "stream",
     "text": [
      "time: 21 ms\n"
     ]
    }
   ],
   "source": [
    "temp = Test_x.values\n",
    "\n",
    "test_X = temp[:, 0:9]\n",
    "\n",
    "test_Y = temp[:, 10]\n",
    "\n",
    "test_Y"
   ]
  },
  {
   "cell_type": "code",
   "execution_count": 8,
   "metadata": {
    "collapsed": false
   },
   "outputs": [
    {
     "name": "stdout",
     "output_type": "stream",
     "text": [
      "time: 6.5 ms\n"
     ]
    }
   ],
   "source": [
    "temp_Y = pd.Series(test_Y)\n",
    "\n",
    "temp_Y = pd.get_dummies(temp_Y)\n",
    "\n",
    "test_Y = temp_Y.values\n",
    "\n",
    "temp2 = np.zeros((len(test_Y), 2))\n",
    "\n",
    "test_Y = np.concatenate((test_Y, temp2), axis=1)"
   ]
  },
  {
   "cell_type": "code",
   "execution_count": 9,
   "metadata": {
    "collapsed": false
   },
   "outputs": [
    {
     "data": {
      "text/plain": [
       "(1801, 11)"
      ]
     },
     "execution_count": 9,
     "metadata": {},
     "output_type": "execute_result"
    },
    {
     "name": "stdout",
     "output_type": "stream",
     "text": [
      "time: 12.5 ms\n"
     ]
    }
   ],
   "source": [
    "Brooke['Label'] = 3\n",
    "\n",
    "Brooke.shape"
   ]
  },
  {
   "cell_type": "code",
   "execution_count": 10,
   "metadata": {
    "collapsed": false
   },
   "outputs": [
    {
     "data": {
      "text/plain": [
       "(2072, 11)"
      ]
     },
     "execution_count": 10,
     "metadata": {},
     "output_type": "execute_result"
    },
    {
     "name": "stdout",
     "output_type": "stream",
     "text": [
      "time: 29 ms\n"
     ]
    }
   ],
   "source": [
    "Michael = Michael[Michael['Label'] == 1]\n",
    "\n",
    "Michael_prime = Michael[Michael['Attention'] > 0]\n",
    "\n",
    "Michael = Michael_prime[Michael_prime['Meditation'] > 0]\n",
    "\n",
    "\n",
    "Mark_prime = Mark[Mark['Attention'] > 0]\n",
    "\n",
    "Mark = Mark_prime[Mark_prime['Meditation'] > 0]\n",
    "\n",
    "Mark.shape"
   ]
  },
  {
   "cell_type": "code",
   "execution_count": 11,
   "metadata": {
    "collapsed": false
   },
   "outputs": [
    {
     "data": {
      "text/html": [
       "<div>\n",
       "<table border=\"1\" class=\"dataframe\">\n",
       "  <thead>\n",
       "    <tr style=\"text-align: right;\">\n",
       "      <th></th>\n",
       "      <th>Delta</th>\n",
       "      <th>Theta</th>\n",
       "      <th>Low_Alpha</th>\n",
       "      <th>High_Alpha</th>\n",
       "      <th>Low_Beta</th>\n",
       "      <th>High_Beta</th>\n",
       "      <th>Low_Gamma</th>\n",
       "      <th>High_Gamma</th>\n",
       "      <th>Attention</th>\n",
       "      <th>Meditation</th>\n",
       "      <th>Label</th>\n",
       "    </tr>\n",
       "  </thead>\n",
       "  <tbody>\n",
       "    <tr>\n",
       "      <th>0</th>\n",
       "      <td>160084</td>\n",
       "      <td>26918</td>\n",
       "      <td>11728</td>\n",
       "      <td>7755</td>\n",
       "      <td>3846</td>\n",
       "      <td>2365</td>\n",
       "      <td>1191</td>\n",
       "      <td>1494</td>\n",
       "      <td>1</td>\n",
       "      <td>84</td>\n",
       "      <td>NaN</td>\n",
       "    </tr>\n",
       "    <tr>\n",
       "      <th>1</th>\n",
       "      <td>840783</td>\n",
       "      <td>93268</td>\n",
       "      <td>11747</td>\n",
       "      <td>65774</td>\n",
       "      <td>99985</td>\n",
       "      <td>21266</td>\n",
       "      <td>40141</td>\n",
       "      <td>17742</td>\n",
       "      <td>1</td>\n",
       "      <td>84</td>\n",
       "      <td>2</td>\n",
       "    </tr>\n",
       "    <tr>\n",
       "      <th>2</th>\n",
       "      <td>1217192</td>\n",
       "      <td>143461</td>\n",
       "      <td>10210</td>\n",
       "      <td>11761</td>\n",
       "      <td>23137</td>\n",
       "      <td>12823</td>\n",
       "      <td>9761</td>\n",
       "      <td>7286</td>\n",
       "      <td>1</td>\n",
       "      <td>84</td>\n",
       "      <td>2</td>\n",
       "    </tr>\n",
       "    <tr>\n",
       "      <th>3</th>\n",
       "      <td>1030498</td>\n",
       "      <td>172887</td>\n",
       "      <td>24678</td>\n",
       "      <td>9847</td>\n",
       "      <td>9626</td>\n",
       "      <td>12134</td>\n",
       "      <td>5483</td>\n",
       "      <td>2068</td>\n",
       "      <td>7</td>\n",
       "      <td>88</td>\n",
       "      <td>2</td>\n",
       "    </tr>\n",
       "    <tr>\n",
       "      <th>4</th>\n",
       "      <td>612621</td>\n",
       "      <td>51515</td>\n",
       "      <td>1114</td>\n",
       "      <td>10179</td>\n",
       "      <td>9506</td>\n",
       "      <td>4846</td>\n",
       "      <td>3245</td>\n",
       "      <td>3569</td>\n",
       "      <td>7</td>\n",
       "      <td>75</td>\n",
       "      <td>2</td>\n",
       "    </tr>\n",
       "  </tbody>\n",
       "</table>\n",
       "</div>"
      ],
      "text/plain": [
       "     Delta   Theta  Low_Alpha  High_Alpha  Low_Beta  High_Beta  Low_Gamma  \\\n",
       "0   160084   26918      11728        7755      3846       2365       1191   \n",
       "1   840783   93268      11747       65774     99985      21266      40141   \n",
       "2  1217192  143461      10210       11761     23137      12823       9761   \n",
       "3  1030498  172887      24678        9847      9626      12134       5483   \n",
       "4   612621   51515       1114       10179      9506       4846       3245   \n",
       "\n",
       "   High_Gamma  Attention  Meditation  Label  \n",
       "0        1494          1          84    NaN  \n",
       "1       17742          1          84      2  \n",
       "2        7286          1          84      2  \n",
       "3        2068          7          88      2  \n",
       "4        3569          7          75      2  "
      ]
     },
     "execution_count": 11,
     "metadata": {},
     "output_type": "execute_result"
    },
    {
     "name": "stdout",
     "output_type": "stream",
     "text": [
      "time: 36.5 ms\n"
     ]
    }
   ],
   "source": [
    "Mark.head()"
   ]
  },
  {
   "cell_type": "code",
   "execution_count": 12,
   "metadata": {
    "collapsed": false
   },
   "outputs": [
    {
     "name": "stdout",
     "output_type": "stream",
     "text": [
      "time: 39.3 ms\n"
     ]
    }
   ],
   "source": [
    "frames = [Michael.dropna()[0:1800], Mark.dropna()[0:1800], Brooke.dropna()[0:1800]]\n",
    "\n",
    "data = pd.concat(frames, copy=False, ignore_index=True)\n",
    "\n",
    "data = data.drop_duplicates()\n",
    "\n",
    "data = data.dropna()\n",
    "\n",
    "#data = data.values"
   ]
  },
  {
   "cell_type": "code",
   "execution_count": 13,
   "metadata": {
    "collapsed": false
   },
   "outputs": [
    {
     "data": {
      "text/plain": [
       "(5400, 11)"
      ]
     },
     "execution_count": 13,
     "metadata": {},
     "output_type": "execute_result"
    },
    {
     "name": "stdout",
     "output_type": "stream",
     "text": [
      "time: 3 ms\n"
     ]
    }
   ],
   "source": [
    "data.shape"
   ]
  },
  {
   "cell_type": "code",
   "execution_count": 14,
   "metadata": {
    "collapsed": false
   },
   "outputs": [
    {
     "name": "stdout",
     "output_type": "stream",
     "text": [
      "time: 8.5 ms\n"
     ]
    }
   ],
   "source": [
    "#THIS IS WHAT YOU FIX\n",
    "\n",
    "# frames = {'Subject 1': Michael[0:1800],\n",
    "#          'Subject 2': Mark[0:1800],\n",
    "#          'Subject 3': Brooke[0:1800]}\n",
    "\n",
    "# data = Panel.from_dict(frames)\n",
    "\n",
    "# data.shape"
   ]
  },
  {
   "cell_type": "code",
   "execution_count": 15,
   "metadata": {
    "collapsed": false
   },
   "outputs": [
    {
     "data": {
      "text/plain": [
       "(5400, 11)"
      ]
     },
     "execution_count": 15,
     "metadata": {},
     "output_type": "execute_result"
    },
    {
     "name": "stdout",
     "output_type": "stream",
     "text": [
      "time: 15 ms\n"
     ]
    }
   ],
   "source": [
    "data = data.dropna()\n",
    "\n",
    "data.shape"
   ]
  },
  {
   "cell_type": "code",
   "execution_count": 16,
   "metadata": {
    "collapsed": false
   },
   "outputs": [
    {
     "name": "stdout",
     "output_type": "stream",
     "text": [
      "time: 5.5 ms\n"
     ]
    }
   ],
   "source": [
    "data = data.values"
   ]
  },
  {
   "cell_type": "code",
   "execution_count": 17,
   "metadata": {
    "collapsed": false
   },
   "outputs": [
    {
     "name": "stdout",
     "output_type": "stream",
     "text": [
      "time: 12.5 ms\n"
     ]
    }
   ],
   "source": [
    "X = data[:, 0:9]\n",
    "\n",
    "Y = data[:, 10]"
   ]
  },
  {
   "cell_type": "code",
   "execution_count": 18,
   "metadata": {
    "collapsed": false
   },
   "outputs": [
    {
     "name": "stdout",
     "output_type": "stream",
     "text": [
      "time: 6.51 ms\n"
     ]
    }
   ],
   "source": [
    "Y = pd.Series(Y)\n",
    "\n",
    "Y = pd.get_dummies(Y)\n",
    "\n",
    "Y = Y.values"
   ]
  },
  {
   "cell_type": "code",
   "execution_count": 19,
   "metadata": {
    "collapsed": false
   },
   "outputs": [
    {
     "name": "stdout",
     "output_type": "stream",
     "text": [
      "time: 8 ms\n"
     ]
    }
   ],
   "source": [
    "# data = np.concatenate((X, Y), axis=1)\n",
    "\n",
    "# np.shape(data)"
   ]
  },
  {
   "cell_type": "code",
   "execution_count": 20,
   "metadata": {
    "collapsed": false
   },
   "outputs": [
    {
     "name": "stdout",
     "output_type": "stream",
     "text": [
      "time: 3 ms\n"
     ]
    }
   ],
   "source": [
    "# Y = to_categorical(Y.astype(int), 3)\n",
    "\n",
    "#np.shape(Y)"
   ]
  },
  {
   "cell_type": "code",
   "execution_count": 21,
   "metadata": {
    "collapsed": false
   },
   "outputs": [
    {
     "name": "stdout",
     "output_type": "stream",
     "text": [
      "time: 9.38 s\n"
     ]
    }
   ],
   "source": [
    "#a = Input(shape=(5400,12))\n",
    "#b = Dense(3)(a)\n",
    "\n",
    "mlp_model = Sequential()\n",
    "\n",
    "mlp_model.add(Dense(64, input_dim=9, init='uniform'))\n",
    "mlp_model.add(Activation('tanh'))\n",
    "mlp_model.add(Dropout(0.5))\n",
    "mlp_model.add(Dense(64, init='uniform'))\n",
    "mlp_model.add(Activation('tanh'))\n",
    "mlp_model.add(Dropout(0.5))\n",
    "mlp_model.add(Dense(3, init='uniform'))\n",
    "mlp_model.add(Activation('softmax'))\n",
    "\n",
    "sgd = SGD(lr=0.05, decay=1e-6, momentum=0.9, nesterov=True)\n",
    "\n",
    "mlp_model.compile(loss='categorical_crossentropy',\n",
    "              optimizer=sgd,\n",
    "              metrics=['accuracy'])"
   ]
  },
  {
   "cell_type": "code",
   "execution_count": 22,
   "metadata": {
    "collapsed": false
   },
   "outputs": [
    {
     "name": "stdout",
     "output_type": "stream",
     "text": [
      "time: 1.5 ms\n"
     ]
    }
   ],
   "source": [
    "#mlp_model.fit(X, Y, batch_size=16, nb_epoch=200, verbose=0)"
   ]
  },
  {
   "cell_type": "code",
   "execution_count": 23,
   "metadata": {
    "collapsed": false
   },
   "outputs": [
    {
     "data": {
      "text/plain": [
       "array([ 0.32733286,  0.36250553,  0.31016161])"
      ]
     },
     "execution_count": 23,
     "metadata": {},
     "output_type": "execute_result"
    },
    {
     "name": "stdout",
     "output_type": "stream",
     "text": [
      "time: 11min 25s\n"
     ]
    }
   ],
   "source": [
    "results = []\n",
    "\n",
    "\n",
    "for i in np.arange(0, 10):\n",
    "    mlp_model.fit(X, Y, batch_size=16, nb_epoch=200, verbose=0)\n",
    "    \n",
    "    predicted = mlp_model.predict(test_X, batch_size=20)\n",
    "    \n",
    "    temp = np.mean(predicted, axis=0)\n",
    "    \n",
    "    results.append(temp)\n",
    "\n",
    "results = np.asarray(results)\n",
    "\n",
    "np.mean(results, axis=0)"
   ]
  },
  {
   "cell_type": "code",
   "execution_count": 24,
   "metadata": {
    "collapsed": false
   },
   "outputs": [
    {
     "data": {
      "text/plain": [
       "array([[ 0.03028324,  0.07002434,  0.89969241],\n",
       "       [ 0.17640946,  0.46194816,  0.36164236],\n",
       "       [ 0.36589101,  0.45477954,  0.17932946],\n",
       "       [ 0.46520236,  0.38602215,  0.14877549],\n",
       "       [ 0.04809855,  0.27456078,  0.67734069],\n",
       "       [ 0.04632832,  0.88042992,  0.07324175],\n",
       "       [ 0.3337925 ,  0.57069003,  0.09551748],\n",
       "       [ 0.30931519,  0.20770191,  0.48298293],\n",
       "       [ 0.73458499,  0.15268986,  0.11272515],\n",
       "       [ 0.76342297,  0.16620862,  0.07036839]])"
      ]
     },
     "execution_count": 24,
     "metadata": {},
     "output_type": "execute_result"
    },
    {
     "name": "stdout",
     "output_type": "stream",
     "text": [
      "time: 3.5 ms\n"
     ]
    }
   ],
   "source": [
    "results"
   ]
  },
  {
   "cell_type": "code",
   "execution_count": 25,
   "metadata": {
    "collapsed": false
   },
   "outputs": [
    {
     "name": "stdout",
     "output_type": "stream",
     "text": [
      "time: 234 ms\n"
     ]
    }
   ],
   "source": [
    "mlp_model = Sequential()\n",
    "\n",
    "mlp_model.add(Dense(64, input_dim=9, init='uniform'))\n",
    "mlp_model.add(Activation('relu'))\n",
    "mlp_model.add(Dropout(0.5))\n",
    "mlp_model.add(Dense(64, init='uniform'))\n",
    "mlp_model.add(Activation('relu'))\n",
    "mlp_model.add(Dropout(0.5))\n",
    "mlp_model.add(Dense(3, init='uniform'))\n",
    "mlp_model.add(Activation('softmax'))\n",
    "\n",
    "sgd = SGD(lr=0.05, decay=1e-6, momentum=0.9, nesterov=True)\n",
    "\n",
    "mlp_model.compile(loss='categorical_crossentropy',\n",
    "              optimizer=sgd,\n",
    "              metrics=['accuracy'])"
   ]
  },
  {
   "cell_type": "code",
   "execution_count": 26,
   "metadata": {
    "collapsed": false
   },
   "outputs": [
    {
     "data": {
      "text/plain": [
       "array([ 0.,  0.,  1.])"
      ]
     },
     "execution_count": 26,
     "metadata": {},
     "output_type": "execute_result"
    },
    {
     "name": "stdout",
     "output_type": "stream",
     "text": [
      "time: 12min 12s\n"
     ]
    }
   ],
   "source": [
    "results = []\n",
    "\n",
    "\n",
    "for i in np.arange(0, 10):\n",
    "    mlp_model.fit(X, Y, batch_size=16, nb_epoch=200, verbose=0)\n",
    "    \n",
    "    predicted = mlp_model.predict(test_X, batch_size=20)\n",
    "    \n",
    "    temp = np.mean(predicted, axis=0)\n",
    "    \n",
    "    results.append(temp)\n",
    "\n",
    "results = np.asarray(results)\n",
    "\n",
    "np.mean(results, axis=0)"
   ]
  },
  {
   "cell_type": "code",
   "execution_count": 27,
   "metadata": {
    "collapsed": false
   },
   "outputs": [
    {
     "data": {
      "text/plain": [
       "array([[ 0.,  0.,  1.],\n",
       "       [ 0.,  0.,  1.],\n",
       "       [ 0.,  0.,  1.],\n",
       "       [ 0.,  0.,  1.],\n",
       "       [ 0.,  0.,  1.],\n",
       "       [ 0.,  0.,  1.],\n",
       "       [ 0.,  0.,  1.],\n",
       "       [ 0.,  0.,  1.],\n",
       "       [ 0.,  0.,  1.],\n",
       "       [ 0.,  0.,  1.]])"
      ]
     },
     "execution_count": 27,
     "metadata": {},
     "output_type": "execute_result"
    },
    {
     "name": "stdout",
     "output_type": "stream",
     "text": [
      "time: 4.5 ms\n"
     ]
    }
   ],
   "source": [
    "results"
   ]
  },
  {
   "cell_type": "code",
   "execution_count": 28,
   "metadata": {
    "collapsed": false
   },
   "outputs": [
    {
     "data": {
      "text/plain": [
       "array([ 2.,  2.,  2.,  2.,  2.,  2.,  2.,  2.,  2.,  2.,  2.,  2.,  2.,\n",
       "        2.,  2.,  2.,  2.,  2.,  2.,  2.,  2.,  2.,  2.,  2.,  2.,  2.,\n",
       "        2.,  2.,  2.,  2.,  2.,  2.,  2.,  2.,  2.,  2.,  2.,  2.,  2.,\n",
       "        2.,  2.,  2.,  2.,  2.,  2.,  2.,  2.,  2.,  2.,  2.,  2.,  2.,\n",
       "        2.,  2.,  2.,  2.,  2.,  2.,  2.,  2.,  2.,  2.,  2.,  2.,  2.,\n",
       "        2.,  2.,  2.,  2.,  2.,  2.,  2.,  2.,  2.,  2.,  2.,  2.,  2.,\n",
       "        2.,  2.,  2.,  2.,  2.,  2.,  2.,  2.,  2.,  2.,  2.,  2.,  2.,\n",
       "        2.,  2.,  2.,  2.,  2.,  2.,  2.,  2.,  2.,  2.,  2.,  2.,  2.,\n",
       "        2.,  2.,  2.,  2.,  2.,  2.,  2.,  2.,  2.,  2.,  2.,  2.,  2.,\n",
       "        2.,  2.,  2.,  2.])"
      ]
     },
     "execution_count": 28,
     "metadata": {},
     "output_type": "execute_result"
    },
    {
     "name": "stdout",
     "output_type": "stream",
     "text": [
      "time: 23 ms\n"
     ]
    }
   ],
   "source": [
    "Test_x = pd.read_csv('Trials/results2.csv', header=None)\n",
    "\n",
    "Test_x.columns = ['Delta', 'Theta', 'Low_Alpha', 'High_Alpha', 'Low_Beta', 'High_Beta',\n",
    "                         'Low_Gamma', 'High_Gamma', 'Attention', 'Meditation']\n",
    "\n",
    "Test_x['Label'] = 2\n",
    "\n",
    "temp = Test_x.values\n",
    "\n",
    "test_X = temp[:, 0:9]\n",
    "\n",
    "test_Y = temp[:, 10]\n",
    "\n",
    "test_Y"
   ]
  },
  {
   "cell_type": "code",
   "execution_count": 29,
   "metadata": {
    "collapsed": false
   },
   "outputs": [
    {
     "name": "stdout",
     "output_type": "stream",
     "text": [
      "time: 240 ms\n"
     ]
    }
   ],
   "source": [
    "\n",
    "\n",
    "mlp_model = Sequential()\n",
    "\n",
    "mlp_model.add(Dense(64, input_dim=9, init='uniform'))\n",
    "mlp_model.add(Activation('tanh'))\n",
    "mlp_model.add(Dropout(0.5))\n",
    "mlp_model.add(Dense(64, init='uniform'))\n",
    "mlp_model.add(Activation('tanh'))\n",
    "mlp_model.add(Dropout(0.5))\n",
    "mlp_model.add(Dense(3, init='uniform'))\n",
    "mlp_model.add(Activation('softmax'))\n",
    "\n",
    "sgd = SGD(lr=0.05, decay=1e-6, momentum=0.9, nesterov=True)\n",
    "\n",
    "mlp_model.compile(loss='categorical_crossentropy',\n",
    "              optimizer=sgd,\n",
    "              metrics=['accuracy'])"
   ]
  },
  {
   "cell_type": "code",
   "execution_count": 30,
   "metadata": {
    "collapsed": false
   },
   "outputs": [
    {
     "data": {
      "text/plain": [
       "array([ 0.45459535,  0.28768759,  0.25771706])"
      ]
     },
     "execution_count": 30,
     "metadata": {},
     "output_type": "execute_result"
    },
    {
     "name": "stdout",
     "output_type": "stream",
     "text": [
      "time: 10min 27s\n"
     ]
    }
   ],
   "source": [
    "results = []\n",
    "\n",
    "\n",
    "for i in np.arange(0, 10):\n",
    "    mlp_model.fit(X, Y, batch_size=16, nb_epoch=200, verbose=0)\n",
    "    \n",
    "    predicted = mlp_model.predict(test_X, batch_size=20)\n",
    "    \n",
    "    temp = np.mean(predicted, axis=0)\n",
    "    \n",
    "    results.append(temp)\n",
    "\n",
    "results = np.asarray(results)\n",
    "\n",
    "np.mean(results, axis=0)"
   ]
  },
  {
   "cell_type": "code",
   "execution_count": 31,
   "metadata": {
    "collapsed": false
   },
   "outputs": [
    {
     "data": {
      "text/plain": [
       "array([[ 0.68016702,  0.1725923 ,  0.14724071],\n",
       "       [ 0.69085956,  0.01097539,  0.29816505],\n",
       "       [ 0.17573737,  0.69668925,  0.12757337],\n",
       "       [ 0.65233445,  0.18125626,  0.16640928],\n",
       "       [ 0.77927357,  0.03876575,  0.18196067],\n",
       "       [ 0.1990097 ,  0.67149138,  0.12949888],\n",
       "       [ 0.08609671,  0.31479222,  0.59911108],\n",
       "       [ 0.38103536,  0.11907849,  0.49988616],\n",
       "       [ 0.22605185,  0.58548349,  0.18846466],\n",
       "       [ 0.67538792,  0.08575133,  0.23886077]])"
      ]
     },
     "execution_count": 31,
     "metadata": {},
     "output_type": "execute_result"
    },
    {
     "name": "stdout",
     "output_type": "stream",
     "text": [
      "time: 3.5 ms\n"
     ]
    }
   ],
   "source": [
    "results"
   ]
  },
  {
   "cell_type": "code",
   "execution_count": 32,
   "metadata": {
    "collapsed": false
   },
   "outputs": [
    {
     "name": "stdout",
     "output_type": "stream",
     "text": [
      "time: 205 ms\n"
     ]
    }
   ],
   "source": [
    "mlp_model = Sequential()\n",
    "\n",
    "mlp_model.add(Dense(64, input_dim=9, init='uniform'))\n",
    "mlp_model.add(Activation('relu'))\n",
    "mlp_model.add(Dropout(0.5))\n",
    "mlp_model.add(Dense(64, init='uniform'))\n",
    "mlp_model.add(Activation('relu'))\n",
    "mlp_model.add(Dropout(0.5))\n",
    "mlp_model.add(Dense(3, init='uniform'))\n",
    "mlp_model.add(Activation('softmax'))\n",
    "\n",
    "sgd = SGD(lr=0.05, decay=1e-6, momentum=0.9, nesterov=True)\n",
    "\n",
    "mlp_model.compile(loss='categorical_crossentropy',\n",
    "              optimizer=sgd,\n",
    "              metrics=['accuracy'])"
   ]
  },
  {
   "cell_type": "code",
   "execution_count": 33,
   "metadata": {
    "collapsed": false
   },
   "outputs": [
    {
     "data": {
      "text/plain": [
       "array([ 1.,  0.,  0.])"
      ]
     },
     "execution_count": 33,
     "metadata": {},
     "output_type": "execute_result"
    },
    {
     "name": "stdout",
     "output_type": "stream",
     "text": [
      "time: 18min 11s\n"
     ]
    }
   ],
   "source": [
    "results = []\n",
    "\n",
    "\n",
    "for i in np.arange(6, 34, 2):\n",
    "    mlp_model.fit(X, Y, batch_size=i, nb_epoch=200, verbose=0)\n",
    "    \n",
    "    predicted = mlp_model.predict(test_X, batch_size=20)\n",
    "    \n",
    "    temp = np.mean(predicted, axis=0)\n",
    "    \n",
    "    results.append(temp)\n",
    "\n",
    "results = np.asarray(results)\n",
    "\n",
    "np.mean(results, axis=0)"
   ]
  },
  {
   "cell_type": "code",
   "execution_count": 34,
   "metadata": {
    "collapsed": false
   },
   "outputs": [
    {
     "data": {
      "text/plain": [
       "array([[ 1.,  0.,  0.],\n",
       "       [ 1.,  0.,  0.],\n",
       "       [ 1.,  0.,  0.],\n",
       "       [ 1.,  0.,  0.],\n",
       "       [ 1.,  0.,  0.],\n",
       "       [ 1.,  0.,  0.],\n",
       "       [ 1.,  0.,  0.],\n",
       "       [ 1.,  0.,  0.],\n",
       "       [ 1.,  0.,  0.],\n",
       "       [ 1.,  0.,  0.],\n",
       "       [ 1.,  0.,  0.],\n",
       "       [ 1.,  0.,  0.],\n",
       "       [ 1.,  0.,  0.],\n",
       "       [ 1.,  0.,  0.]])"
      ]
     },
     "execution_count": 34,
     "metadata": {},
     "output_type": "execute_result"
    },
    {
     "name": "stdout",
     "output_type": "stream",
     "text": [
      "time: 11.5 ms\n"
     ]
    }
   ],
   "source": [
    "results"
   ]
  },
  {
   "cell_type": "code",
   "execution_count": 35,
   "metadata": {
    "collapsed": false
   },
   "outputs": [
    {
     "name": "stdout",
     "output_type": "stream",
     "text": [
      "____________________________________________________________________________________________________\n",
      "Layer (type)                     Output Shape          Param #     Connected to                     \n",
      "====================================================================================================\n",
      "lstm_1 (LSTM)                    (None, 1800, 32)      5376        lstm_input_1[0][0]               \n",
      "____________________________________________________________________________________________________\n",
      "dropout_9 (Dropout)              (None, 1800, 32)      0           lstm_1[0][0]                     \n",
      "____________________________________________________________________________________________________\n",
      "lstm_2 (LSTM)                    (None, 1800, 32)      8320        dropout_9[0][0]                  \n",
      "____________________________________________________________________________________________________\n",
      "dropout_10 (Dropout)             (None, 1800, 32)      0           lstm_2[0][0]                     \n",
      "____________________________________________________________________________________________________\n",
      "lstm_3 (LSTM)                    (None, 9)             1512        dropout_10[0][0]                 \n",
      "____________________________________________________________________________________________________\n",
      "dropout_11 (Dropout)             (None, 9)             0           lstm_3[0][0]                     \n",
      "____________________________________________________________________________________________________\n",
      "dense_13 (Dense)                 (None, 3)             30          dropout_11[0][0]                 \n",
      "====================================================================================================\n",
      "Total params: 15238\n",
      "____________________________________________________________________________________________________\n",
      "time: 2.26 s\n"
     ]
    }
   ],
   "source": [
    "data_dim = 9\n",
    "timesteps = 1800\n",
    "nb_classes = 3\n",
    "batch_size = 32\n",
    "\n",
    "# expected input data shape: (batch_size, timesteps, data_dim)\n",
    "lstm_model = Sequential()\n",
    "lstm_model.add(LSTM(32, return_sequences=True,\n",
    "                    input_shape=(timesteps, data_dim)))  # returns a sequence of vectors of dimension 32\n",
    "lstm_model.add(Dropout(0.5))\n",
    "lstm_model.add(LSTM(32, return_sequences=True))  # returns a sequence of vectors of dimension 32\n",
    "lstm_model.add(Dropout(0.5))\n",
    "lstm_model.add(LSTM(9, return_sequences=False))  # return a single vector of dimension 32\n",
    "lstm_model.add(Dropout(0.5))\n",
    "#lstm_model.add(LSTM(32, return_sequences=False))\n",
    "#lstm_model.add(Reshape((3, None)))\n",
    "lstm_model.add(Dense(3, init='uniform', activation='softmax'))\n",
    "#lstm_model.add(Flatten())\n",
    "\n",
    "\n",
    "lstm_model.summary()"
   ]
  },
  {
   "cell_type": "code",
   "execution_count": 36,
   "metadata": {
    "collapsed": false
   },
   "outputs": [
    {
     "name": "stdout",
     "output_type": "stream",
     "text": [
      "time: 17.5 ms\n"
     ]
    }
   ],
   "source": [
    "lstm_model.compile(loss='categorical_crossentropy',\n",
    "              optimizer='rmsprop',\n",
    "              metrics=['accuracy'])\n"
   ]
  },
  {
   "cell_type": "code",
   "execution_count": 37,
   "metadata": {
    "collapsed": false
   },
   "outputs": [
    {
     "ename": "Exception",
     "evalue": "Error when checking model input: expected lstm_input_1 to have 3 dimensions, but got array with shape (5400, 9)",
     "output_type": "error",
     "traceback": [
      "\u001b[1;31m---------------------------------------------------------------------------\u001b[0m",
      "\u001b[1;31mException\u001b[0m                                 Traceback (most recent call last)",
      "\u001b[1;32m<ipython-input-37-2fe556405101>\u001b[0m in \u001b[0;36m<module>\u001b[1;34m()\u001b[0m\n\u001b[1;32m----> 1\u001b[1;33m \u001b[0mlstm_model\u001b[0m\u001b[1;33m.\u001b[0m\u001b[0mfit\u001b[0m\u001b[1;33m(\u001b[0m\u001b[0mX\u001b[0m\u001b[1;33m,\u001b[0m \u001b[0mY\u001b[0m\u001b[1;33m,\u001b[0m \u001b[0mbatch_size\u001b[0m\u001b[1;33m=\u001b[0m\u001b[1;36m64\u001b[0m\u001b[1;33m,\u001b[0m \u001b[0mnb_epoch\u001b[0m\u001b[1;33m=\u001b[0m\u001b[1;36m20\u001b[0m\u001b[1;33m,\u001b[0m \u001b[0mverbose\u001b[0m\u001b[1;33m=\u001b[0m\u001b[1;36m1\u001b[0m\u001b[1;33m)\u001b[0m\u001b[1;33m\u001b[0m\u001b[0m\n\u001b[0m",
      "\u001b[1;32mC:\\Anaconda3\\lib\\site-packages\\keras\\models.py\u001b[0m in \u001b[0;36mfit\u001b[1;34m(self, x, y, batch_size, nb_epoch, verbose, callbacks, validation_split, validation_data, shuffle, class_weight, sample_weight, **kwargs)\u001b[0m\n\u001b[0;32m    406\u001b[0m                               \u001b[0mshuffle\u001b[0m\u001b[1;33m=\u001b[0m\u001b[0mshuffle\u001b[0m\u001b[1;33m,\u001b[0m\u001b[1;33m\u001b[0m\u001b[0m\n\u001b[0;32m    407\u001b[0m                               \u001b[0mclass_weight\u001b[0m\u001b[1;33m=\u001b[0m\u001b[0mclass_weight\u001b[0m\u001b[1;33m,\u001b[0m\u001b[1;33m\u001b[0m\u001b[0m\n\u001b[1;32m--> 408\u001b[1;33m                               sample_weight=sample_weight)\n\u001b[0m\u001b[0;32m    409\u001b[0m \u001b[1;33m\u001b[0m\u001b[0m\n\u001b[0;32m    410\u001b[0m     def evaluate(self, x, y, batch_size=32, verbose=1,\n",
      "\u001b[1;32mC:\\Anaconda3\\lib\\site-packages\\keras\\engine\\training.py\u001b[0m in \u001b[0;36mfit\u001b[1;34m(self, x, y, batch_size, nb_epoch, verbose, callbacks, validation_split, validation_data, shuffle, class_weight, sample_weight)\u001b[0m\n\u001b[0;32m    996\u001b[0m                                                            \u001b[0mclass_weight\u001b[0m\u001b[1;33m=\u001b[0m\u001b[0mclass_weight\u001b[0m\u001b[1;33m,\u001b[0m\u001b[1;33m\u001b[0m\u001b[0m\n\u001b[0;32m    997\u001b[0m                                                            \u001b[0mcheck_batch_dim\u001b[0m\u001b[1;33m=\u001b[0m\u001b[1;32mFalse\u001b[0m\u001b[1;33m,\u001b[0m\u001b[1;33m\u001b[0m\u001b[0m\n\u001b[1;32m--> 998\u001b[1;33m                                                            batch_size=batch_size)\n\u001b[0m\u001b[0;32m    999\u001b[0m         \u001b[1;31m# prepare validation data\u001b[0m\u001b[1;33m\u001b[0m\u001b[1;33m\u001b[0m\u001b[0m\n\u001b[0;32m   1000\u001b[0m         \u001b[1;32mif\u001b[0m \u001b[0mvalidation_data\u001b[0m\u001b[1;33m:\u001b[0m\u001b[1;33m\u001b[0m\u001b[0m\n",
      "\u001b[1;32mC:\\Anaconda3\\lib\\site-packages\\keras\\engine\\training.py\u001b[0m in \u001b[0;36m_standardize_user_data\u001b[1;34m(self, x, y, sample_weight, class_weight, check_batch_dim, batch_size)\u001b[0m\n\u001b[0;32m    923\u001b[0m                                    \u001b[0mself\u001b[0m\u001b[1;33m.\u001b[0m\u001b[0minternal_input_shapes\u001b[0m\u001b[1;33m,\u001b[0m\u001b[1;33m\u001b[0m\u001b[0m\n\u001b[0;32m    924\u001b[0m                                    \u001b[0mcheck_batch_dim\u001b[0m\u001b[1;33m=\u001b[0m\u001b[1;32mFalse\u001b[0m\u001b[1;33m,\u001b[0m\u001b[1;33m\u001b[0m\u001b[0m\n\u001b[1;32m--> 925\u001b[1;33m                                    exception_prefix='model input')\n\u001b[0m\u001b[0;32m    926\u001b[0m         y = standardize_input_data(y, self.output_names,\n\u001b[0;32m    927\u001b[0m                                    \u001b[0moutput_shapes\u001b[0m\u001b[1;33m,\u001b[0m\u001b[1;33m\u001b[0m\u001b[0m\n",
      "\u001b[1;32mC:\\Anaconda3\\lib\\site-packages\\keras\\engine\\training.py\u001b[0m in \u001b[0;36mstandardize_input_data\u001b[1;34m(data, names, shapes, check_batch_dim, exception_prefix)\u001b[0m\n\u001b[0;32m     91\u001b[0m                                 \u001b[1;34m' to have '\u001b[0m \u001b[1;33m+\u001b[0m \u001b[0mstr\u001b[0m\u001b[1;33m(\u001b[0m\u001b[0mlen\u001b[0m\u001b[1;33m(\u001b[0m\u001b[0mshapes\u001b[0m\u001b[1;33m[\u001b[0m\u001b[0mi\u001b[0m\u001b[1;33m]\u001b[0m\u001b[1;33m)\u001b[0m\u001b[1;33m)\u001b[0m \u001b[1;33m+\u001b[0m\u001b[1;33m\u001b[0m\u001b[0m\n\u001b[0;32m     92\u001b[0m                                 \u001b[1;34m' dimensions, but got array with shape '\u001b[0m \u001b[1;33m+\u001b[0m\u001b[1;33m\u001b[0m\u001b[0m\n\u001b[1;32m---> 93\u001b[1;33m                                 str(array.shape))\n\u001b[0m\u001b[0;32m     94\u001b[0m             \u001b[1;32mfor\u001b[0m \u001b[0mj\u001b[0m\u001b[1;33m,\u001b[0m \u001b[1;33m(\u001b[0m\u001b[0mdim\u001b[0m\u001b[1;33m,\u001b[0m \u001b[0mref_dim\u001b[0m\u001b[1;33m)\u001b[0m \u001b[1;32min\u001b[0m \u001b[0menumerate\u001b[0m\u001b[1;33m(\u001b[0m\u001b[0mzip\u001b[0m\u001b[1;33m(\u001b[0m\u001b[0marray\u001b[0m\u001b[1;33m.\u001b[0m\u001b[0mshape\u001b[0m\u001b[1;33m,\u001b[0m \u001b[0mshapes\u001b[0m\u001b[1;33m[\u001b[0m\u001b[0mi\u001b[0m\u001b[1;33m]\u001b[0m\u001b[1;33m)\u001b[0m\u001b[1;33m)\u001b[0m\u001b[1;33m:\u001b[0m\u001b[1;33m\u001b[0m\u001b[0m\n\u001b[0;32m     95\u001b[0m                 \u001b[1;32mif\u001b[0m \u001b[1;32mnot\u001b[0m \u001b[0mj\u001b[0m \u001b[1;32mand\u001b[0m \u001b[1;32mnot\u001b[0m \u001b[0mcheck_batch_dim\u001b[0m\u001b[1;33m:\u001b[0m\u001b[1;33m\u001b[0m\u001b[0m\n",
      "\u001b[1;31mException\u001b[0m: Error when checking model input: expected lstm_input_1 to have 3 dimensions, but got array with shape (5400, 9)"
     ]
    },
    {
     "name": "stdout",
     "output_type": "stream",
     "text": [
      "time: 44 ms\n"
     ]
    }
   ],
   "source": [
    "lstm_model.fit(X, Y, batch_size=64, nb_epoch=20, verbose=1)"
   ]
  }
 ],
 "metadata": {
  "kernelspec": {
   "display_name": "Python 3",
   "language": "python",
   "name": "python3"
  },
  "language_info": {
   "codemirror_mode": {
    "name": "ipython",
    "version": 3
   },
   "file_extension": ".py",
   "mimetype": "text/x-python",
   "name": "python",
   "nbconvert_exporter": "python",
   "pygments_lexer": "ipython3",
   "version": "3.4.3"
  }
 },
 "nbformat": 4,
 "nbformat_minor": 0
}
