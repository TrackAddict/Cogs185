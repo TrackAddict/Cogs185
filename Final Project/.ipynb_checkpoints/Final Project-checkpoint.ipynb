{
 "cells": [
  {
   "cell_type": "code",
   "execution_count": 1,
   "metadata": {
    "collapsed": false
   },
   "outputs": [
    {
     "name": "stdout",
     "output_type": "stream",
     "text": [
      "Installed autotime.py. To use it, type:\n",
      "  %load_ext autotime\n"
     ]
    }
   ],
   "source": [
    "%matplotlib inline\n",
    "\n",
    "%install_ext https://raw.github.com/cpcloud/ipython-autotime/master/autotime.py\n",
    "%load_ext autotime"
   ]
  },
  {
   "cell_type": "code",
   "execution_count": 2,
   "metadata": {
    "collapsed": false
   },
   "outputs": [
    {
     "name": "stdout",
     "output_type": "stream",
     "text": [
      "time: 1.91 s\n"
     ]
    },
    {
     "name": "stderr",
     "output_type": "stream",
     "text": [
      "Using Theano backend.\n"
     ]
    }
   ],
   "source": [
    "import pyprind\n",
    "\n",
    "from IPython.display import HTML\n",
    "\n",
    "\n",
    "import numpy as np\n",
    "from numpy import genfromtxt\n",
    "\n",
    "import pandas as pd\n",
    "from pandas import DataFrame\n",
    "\n",
    "import warnings\n",
    "\n",
    "# import sklearn as skl\n",
    "# #from sklearn.preprocessing import normalize\n",
    "# from sklearn.cross_validation import KFold\n",
    "# from sklearn.ensemble import RandomForestClassifier as RFC\n",
    "# from sklearn.tree import DecisionTreeClassifier as DTC\n",
    "# from sklearn.neighbors import KNeighborsClassifier\n",
    "# from sklearn.preprocessing import OneHotEncoder\n",
    "\n",
    "import scipy.io as sio\n",
    "from scipy.spatial import distance\n",
    "\n",
    "from scipy.misc import imread, imsave, imresize\n",
    "from scipy.io import savemat, loadmat\n",
    "import matplotlib.pyplot as plt\n",
    "\n",
    "from keras.models import *\n",
    "from keras.layers import *\n",
    "from keras.layers.recurrent import *\n",
    "from keras.utils.np_utils import to_categorical\n",
    "from keras.optimizers import SGD"
   ]
  },
  {
   "cell_type": "code",
   "execution_count": 3,
   "metadata": {
    "collapsed": false
   },
   "outputs": [
    {
     "name": "stdout",
     "output_type": "stream",
     "text": [
      "time: 1 ms\n"
     ]
    }
   ],
   "source": [
    "warnings.filterwarnings('ignore')"
   ]
  },
  {
   "cell_type": "code",
   "execution_count": 4,
   "metadata": {
    "collapsed": false
   },
   "outputs": [
    {
     "name": "stdout",
     "output_type": "stream",
     "text": [
      "time: 11 ms\n"
     ]
    }
   ],
   "source": [
    "def split_data(dataset, train_fraction=0.8):\n",
    "    \n",
    "    train_size = (train_fraction * np.shape(dataset)[0])\n",
    "    \n",
    "    np.random.shuffle(dataset)\n",
    "    \n",
    "    columns = np.shape(dataset)[1]-1\n",
    "    x = dataset[0::,0:columns]\n",
    "    y = dataset[0::,columns:]\n",
    "    \n",
    "    x_training, x_test = x[:train_size,:], x[train_size:,:]\n",
    "    \n",
    "    y_training, y_test = y[:train_size, :], y[train_size:, :]\n",
    "    \n",
    "    return x_training, x_test, y_training, y_test"
   ]
  },
  {
   "cell_type": "code",
   "execution_count": 5,
   "metadata": {
    "collapsed": false
   },
   "outputs": [
    {
     "data": {
      "text/plain": [
       "(2072, 11)"
      ]
     },
     "execution_count": 5,
     "metadata": {},
     "output_type": "execute_result"
    },
    {
     "name": "stdout",
     "output_type": "stream",
     "text": [
      "time: 32.5 ms\n"
     ]
    }
   ],
   "source": [
    "Michael = pd.read_csv('Trials/Michael.csv', header=None)\n",
    "\n",
    "Michael.columns = ['Delta', 'Theta', 'Low_Alpha', 'High_Alpha', 'Low_Beta', 'High_Beta',\n",
    "                         'Low_Gamma', 'High_Gamma', 'Attention', 'Meditation', 'Label']\n",
    "\n",
    "Brooke = pd.read_csv('Trials/Brooke.csv', header=None)\n",
    "\n",
    "Brooke.columns = ['Delta', 'Theta', 'Low_Alpha', 'High_Alpha', 'Low_Beta', 'High_Beta',\n",
    "                  'Low_Gamma', 'High_Gamma', 'Attention', 'Meditation']\n",
    "\n",
    "Mark = pd.read_csv('Trials/Mark.csv', header=None)\n",
    "\n",
    "Mark.columns = ['Delta', 'Theta', 'Low_Alpha', 'High_Alpha', 'Low_Beta', 'High_Beta',\n",
    "                         'Low_Gamma', 'High_Gamma', 'Attention', 'Meditation', 'Label']\n",
    "\n",
    "Mark.shape"
   ]
  },
  {
   "cell_type": "code",
   "execution_count": 6,
   "metadata": {
    "collapsed": false
   },
   "outputs": [
    {
     "name": "stdout",
     "output_type": "stream",
     "text": [
      "time: 7.01 ms\n"
     ]
    }
   ],
   "source": [
    "Test_x = pd.read_csv('Trials/results.csv', header=None)\n",
    "\n",
    "Test_x.columns = ['Delta', 'Theta', 'Low_Alpha', 'High_Alpha', 'Low_Beta', 'High_Beta',\n",
    "                         'Low_Gamma', 'High_Gamma', 'Attention', 'Meditation']\n",
    "\n",
    "Test_x['Label'] = 1"
   ]
  },
  {
   "cell_type": "code",
   "execution_count": 7,
   "metadata": {
    "collapsed": false
   },
   "outputs": [
    {
     "data": {
      "text/plain": [
       "array([ 1.,  1.,  1.,  1.,  1.,  1.,  1.,  1.,  1.,  1.,  1.,  1.,  1.,\n",
       "        1.,  1.,  1.,  1.,  1.,  1.,  1.,  1.,  1.,  1.,  1.,  1.,  1.,\n",
       "        1.,  1.,  1.,  1.,  1.,  1.,  1.,  1.,  1.,  1.,  1.,  1.,  1.,\n",
       "        1.,  1.,  1.,  1.,  1.,  1.,  1.,  1.,  1.,  1.,  1.,  1.,  1.,\n",
       "        1.,  1.,  1.,  1.,  1.,  1.,  1.,  1.,  1.,  1.,  1.,  1.,  1.,\n",
       "        1.,  1.,  1.,  1.,  1.,  1.,  1.,  1.,  1.,  1.,  1.,  1.,  1.,\n",
       "        1.,  1.,  1.,  1.,  1.,  1.,  1.,  1.,  1.,  1.,  1.,  1.,  1.,\n",
       "        1.,  1.,  1.,  1.,  1.,  1.,  1.,  1.,  1.,  1.,  1.,  1.,  1.,\n",
       "        1.,  1.,  1.,  1.,  1.,  1.,  1.,  1.,  1.,  1.,  1.,  1.,  1.,\n",
       "        1.,  1.,  1.,  1.])"
      ]
     },
     "execution_count": 7,
     "metadata": {},
     "output_type": "execute_result"
    },
    {
     "name": "stdout",
     "output_type": "stream",
     "text": [
      "time: 11.5 ms\n"
     ]
    }
   ],
   "source": [
    "temp = Test_x.values\n",
    "\n",
    "test_X = temp[:, 0:9]\n",
    "\n",
    "test_Y = temp[:, 10]\n",
    "\n",
    "test_Y"
   ]
  },
  {
   "cell_type": "code",
   "execution_count": 8,
   "metadata": {
    "collapsed": false
   },
   "outputs": [
    {
     "name": "stdout",
     "output_type": "stream",
     "text": [
      "time: 8 ms\n"
     ]
    }
   ],
   "source": [
    "temp_Y = pd.Series(test_Y)\n",
    "\n",
    "temp_Y = pd.get_dummies(temp_Y)\n",
    "\n",
    "test_Y = temp_Y.values\n",
    "\n",
    "temp2 = np.zeros((len(test_Y), 2))\n",
    "\n",
    "test_Y = np.concatenate((test_Y, temp2), axis=1)"
   ]
  },
  {
   "cell_type": "code",
   "execution_count": 9,
   "metadata": {
    "collapsed": false
   },
   "outputs": [
    {
     "data": {
      "text/plain": [
       "(1801, 11)"
      ]
     },
     "execution_count": 9,
     "metadata": {},
     "output_type": "execute_result"
    },
    {
     "name": "stdout",
     "output_type": "stream",
     "text": [
      "time: 9.51 ms\n"
     ]
    }
   ],
   "source": [
    "Brooke['Label'] = 3\n",
    "\n",
    "Brooke.shape"
   ]
  },
  {
   "cell_type": "code",
   "execution_count": 10,
   "metadata": {
    "collapsed": false
   },
   "outputs": [
    {
     "data": {
      "text/plain": [
       "(2072, 11)"
      ]
     },
     "execution_count": 10,
     "metadata": {},
     "output_type": "execute_result"
    },
    {
     "name": "stdout",
     "output_type": "stream",
     "text": [
      "time: 16.5 ms\n"
     ]
    }
   ],
   "source": [
    "Michael = Michael[Michael['Label'] == 1]\n",
    "\n",
    "Michael_prime = Michael[Michael['Attention'] > 0]\n",
    "\n",
    "Michael = Michael_prime[Michael_prime['Meditation'] > 0]\n",
    "\n",
    "\n",
    "Mark_prime = Mark[Mark['Attention'] > 0]\n",
    "\n",
    "Mark = Mark_prime[Mark_prime['Meditation'] > 0]\n",
    "\n",
    "Mark.shape"
   ]
  },
  {
   "cell_type": "code",
   "execution_count": 11,
   "metadata": {
    "collapsed": false
   },
   "outputs": [
    {
     "data": {
      "text/html": [
       "<div>\n",
       "<table border=\"1\" class=\"dataframe\">\n",
       "  <thead>\n",
       "    <tr style=\"text-align: right;\">\n",
       "      <th></th>\n",
       "      <th>Delta</th>\n",
       "      <th>Theta</th>\n",
       "      <th>Low_Alpha</th>\n",
       "      <th>High_Alpha</th>\n",
       "      <th>Low_Beta</th>\n",
       "      <th>High_Beta</th>\n",
       "      <th>Low_Gamma</th>\n",
       "      <th>High_Gamma</th>\n",
       "      <th>Attention</th>\n",
       "      <th>Meditation</th>\n",
       "      <th>Label</th>\n",
       "    </tr>\n",
       "  </thead>\n",
       "  <tbody>\n",
       "    <tr>\n",
       "      <th>0</th>\n",
       "      <td>160084</td>\n",
       "      <td>26918</td>\n",
       "      <td>11728</td>\n",
       "      <td>7755</td>\n",
       "      <td>3846</td>\n",
       "      <td>2365</td>\n",
       "      <td>1191</td>\n",
       "      <td>1494</td>\n",
       "      <td>1</td>\n",
       "      <td>84</td>\n",
       "      <td>NaN</td>\n",
       "    </tr>\n",
       "    <tr>\n",
       "      <th>1</th>\n",
       "      <td>840783</td>\n",
       "      <td>93268</td>\n",
       "      <td>11747</td>\n",
       "      <td>65774</td>\n",
       "      <td>99985</td>\n",
       "      <td>21266</td>\n",
       "      <td>40141</td>\n",
       "      <td>17742</td>\n",
       "      <td>1</td>\n",
       "      <td>84</td>\n",
       "      <td>2</td>\n",
       "    </tr>\n",
       "    <tr>\n",
       "      <th>2</th>\n",
       "      <td>1217192</td>\n",
       "      <td>143461</td>\n",
       "      <td>10210</td>\n",
       "      <td>11761</td>\n",
       "      <td>23137</td>\n",
       "      <td>12823</td>\n",
       "      <td>9761</td>\n",
       "      <td>7286</td>\n",
       "      <td>1</td>\n",
       "      <td>84</td>\n",
       "      <td>2</td>\n",
       "    </tr>\n",
       "    <tr>\n",
       "      <th>3</th>\n",
       "      <td>1030498</td>\n",
       "      <td>172887</td>\n",
       "      <td>24678</td>\n",
       "      <td>9847</td>\n",
       "      <td>9626</td>\n",
       "      <td>12134</td>\n",
       "      <td>5483</td>\n",
       "      <td>2068</td>\n",
       "      <td>7</td>\n",
       "      <td>88</td>\n",
       "      <td>2</td>\n",
       "    </tr>\n",
       "    <tr>\n",
       "      <th>4</th>\n",
       "      <td>612621</td>\n",
       "      <td>51515</td>\n",
       "      <td>1114</td>\n",
       "      <td>10179</td>\n",
       "      <td>9506</td>\n",
       "      <td>4846</td>\n",
       "      <td>3245</td>\n",
       "      <td>3569</td>\n",
       "      <td>7</td>\n",
       "      <td>75</td>\n",
       "      <td>2</td>\n",
       "    </tr>\n",
       "  </tbody>\n",
       "</table>\n",
       "</div>"
      ],
      "text/plain": [
       "     Delta   Theta  Low_Alpha  High_Alpha  Low_Beta  High_Beta  Low_Gamma  \\\n",
       "0   160084   26918      11728        7755      3846       2365       1191   \n",
       "1   840783   93268      11747       65774     99985      21266      40141   \n",
       "2  1217192  143461      10210       11761     23137      12823       9761   \n",
       "3  1030498  172887      24678        9847      9626      12134       5483   \n",
       "4   612621   51515       1114       10179      9506       4846       3245   \n",
       "\n",
       "   High_Gamma  Attention  Meditation  Label  \n",
       "0        1494          1          84    NaN  \n",
       "1       17742          1          84      2  \n",
       "2        7286          1          84      2  \n",
       "3        2068          7          88      2  \n",
       "4        3569          7          75      2  "
      ]
     },
     "execution_count": 11,
     "metadata": {},
     "output_type": "execute_result"
    },
    {
     "name": "stdout",
     "output_type": "stream",
     "text": [
      "time: 19.5 ms\n"
     ]
    }
   ],
   "source": [
    "Mark.head()"
   ]
  },
  {
   "cell_type": "code",
   "execution_count": 35,
   "metadata": {
    "collapsed": false
   },
   "outputs": [
    {
     "name": "stdout",
     "output_type": "stream",
     "text": [
      "time: 44 ms\n"
     ]
    }
   ],
   "source": [
    "frames = [Michael[0:1800], Mark[0:1800], Brooke[0:1800]]\n",
    "\n",
    "data = pd.concat(frames, copy=False, ignore_index=True, axis=3)\n",
    "\n",
    "data = data.drop_duplicates()\n",
    "\n",
    "data = data.dropna()\n",
    "\n",
    "#data = data.values"
   ]
  },
  {
   "cell_type": "code",
   "execution_count": 48,
   "metadata": {
    "collapsed": false
   },
   "outputs": [
    {
     "data": {
      "text/plain": [
       "(3, 1801, 11)"
      ]
     },
     "execution_count": 48,
     "metadata": {},
     "output_type": "execute_result"
    },
    {
     "name": "stdout",
     "output_type": "stream",
     "text": [
      "time: 11 ms\n"
     ]
    }
   ],
   "source": [
    "#THIS IS WHAT YOU FIX\n",
    "\n",
    "frames = {'Subject 1': Michael[0:1800],\n",
    "         'Subject 2': Mark[0:1800],\n",
    "         'Subject 3': Brooke[0:1800]}\n",
    "\n",
    "data = pd.Panel(frames)\n",
    "\n",
    "data.shape"
   ]
  },
  {
   "cell_type": "code",
   "execution_count": 32,
   "metadata": {
    "collapsed": false
   },
   "outputs": [
    {
     "data": {
      "text/html": [
       "<div>\n",
       "<table border=\"1\" class=\"dataframe\">\n",
       "  <thead>\n",
       "    <tr style=\"text-align: right;\">\n",
       "      <th></th>\n",
       "      <th>0</th>\n",
       "      <th>1</th>\n",
       "      <th>2</th>\n",
       "      <th>3</th>\n",
       "      <th>4</th>\n",
       "      <th>5</th>\n",
       "      <th>6</th>\n",
       "      <th>7</th>\n",
       "      <th>8</th>\n",
       "      <th>9</th>\n",
       "      <th>...</th>\n",
       "      <th>23</th>\n",
       "      <th>24</th>\n",
       "      <th>25</th>\n",
       "      <th>26</th>\n",
       "      <th>27</th>\n",
       "      <th>28</th>\n",
       "      <th>29</th>\n",
       "      <th>30</th>\n",
       "      <th>31</th>\n",
       "      <th>32</th>\n",
       "    </tr>\n",
       "  </thead>\n",
       "  <tbody>\n",
       "    <tr>\n",
       "      <th>1</th>\n",
       "      <td>53353</td>\n",
       "      <td>11880</td>\n",
       "      <td>6189</td>\n",
       "      <td>4239</td>\n",
       "      <td>4458</td>\n",
       "      <td>2143</td>\n",
       "      <td>1748</td>\n",
       "      <td>1179</td>\n",
       "      <td>44</td>\n",
       "      <td>78</td>\n",
       "      <td>...</td>\n",
       "      <td>99908</td>\n",
       "      <td>47901</td>\n",
       "      <td>13062</td>\n",
       "      <td>14273</td>\n",
       "      <td>21313</td>\n",
       "      <td>970</td>\n",
       "      <td>1059</td>\n",
       "      <td>50</td>\n",
       "      <td>48</td>\n",
       "      <td>3</td>\n",
       "    </tr>\n",
       "    <tr>\n",
       "      <th>2</th>\n",
       "      <td>99931</td>\n",
       "      <td>29707</td>\n",
       "      <td>46475</td>\n",
       "      <td>15247</td>\n",
       "      <td>7940</td>\n",
       "      <td>9243</td>\n",
       "      <td>2525</td>\n",
       "      <td>2228</td>\n",
       "      <td>48</td>\n",
       "      <td>96</td>\n",
       "      <td>...</td>\n",
       "      <td>11983</td>\n",
       "      <td>11548</td>\n",
       "      <td>16236</td>\n",
       "      <td>16071</td>\n",
       "      <td>28348</td>\n",
       "      <td>5329</td>\n",
       "      <td>4883</td>\n",
       "      <td>50</td>\n",
       "      <td>48</td>\n",
       "      <td>3</td>\n",
       "    </tr>\n",
       "    <tr>\n",
       "      <th>3</th>\n",
       "      <td>7455</td>\n",
       "      <td>34486</td>\n",
       "      <td>12475</td>\n",
       "      <td>2774</td>\n",
       "      <td>10723</td>\n",
       "      <td>11459</td>\n",
       "      <td>3134</td>\n",
       "      <td>1632</td>\n",
       "      <td>50</td>\n",
       "      <td>80</td>\n",
       "      <td>...</td>\n",
       "      <td>30136</td>\n",
       "      <td>3927</td>\n",
       "      <td>5729</td>\n",
       "      <td>4509</td>\n",
       "      <td>3437</td>\n",
       "      <td>4023</td>\n",
       "      <td>1891</td>\n",
       "      <td>50</td>\n",
       "      <td>48</td>\n",
       "      <td>3</td>\n",
       "    </tr>\n",
       "    <tr>\n",
       "      <th>4</th>\n",
       "      <td>237956</td>\n",
       "      <td>83772</td>\n",
       "      <td>10063</td>\n",
       "      <td>50412</td>\n",
       "      <td>21757</td>\n",
       "      <td>10896</td>\n",
       "      <td>2359</td>\n",
       "      <td>5714</td>\n",
       "      <td>50</td>\n",
       "      <td>77</td>\n",
       "      <td>...</td>\n",
       "      <td>21068</td>\n",
       "      <td>1237</td>\n",
       "      <td>5018</td>\n",
       "      <td>8695</td>\n",
       "      <td>4318</td>\n",
       "      <td>2164</td>\n",
       "      <td>803</td>\n",
       "      <td>50</td>\n",
       "      <td>48</td>\n",
       "      <td>3</td>\n",
       "    </tr>\n",
       "    <tr>\n",
       "      <th>5</th>\n",
       "      <td>68407</td>\n",
       "      <td>9735</td>\n",
       "      <td>2887</td>\n",
       "      <td>2358</td>\n",
       "      <td>4598</td>\n",
       "      <td>2266</td>\n",
       "      <td>897</td>\n",
       "      <td>1531</td>\n",
       "      <td>53</td>\n",
       "      <td>69</td>\n",
       "      <td>...</td>\n",
       "      <td>304932</td>\n",
       "      <td>191252</td>\n",
       "      <td>262676</td>\n",
       "      <td>80364</td>\n",
       "      <td>74850</td>\n",
       "      <td>42337</td>\n",
       "      <td>20754</td>\n",
       "      <td>41</td>\n",
       "      <td>74</td>\n",
       "      <td>3</td>\n",
       "    </tr>\n",
       "  </tbody>\n",
       "</table>\n",
       "<p>5 rows × 33 columns</p>\n",
       "</div>"
      ],
      "text/plain": [
       "       0      1      2      3      4      5     6     7   8   9  ...      23  \\\n",
       "1   53353  11880   6189   4239   4458   2143  1748  1179  44  78 ...   99908   \n",
       "2   99931  29707  46475  15247   7940   9243  2525  2228  48  96 ...   11983   \n",
       "3    7455  34486  12475   2774  10723  11459  3134  1632  50  80 ...   30136   \n",
       "4  237956  83772  10063  50412  21757  10896  2359  5714  50  77 ...   21068   \n",
       "5   68407   9735   2887   2358   4598   2266   897  1531  53  69 ...  304932   \n",
       "\n",
       "       24      25     26     27     28     29  30  31  32  \n",
       "1   47901   13062  14273  21313    970   1059  50  48   3  \n",
       "2   11548   16236  16071  28348   5329   4883  50  48   3  \n",
       "3    3927    5729   4509   3437   4023   1891  50  48   3  \n",
       "4    1237    5018   8695   4318   2164    803  50  48   3  \n",
       "5  191252  262676  80364  74850  42337  20754  41  74   3  \n",
       "\n",
       "[5 rows x 33 columns]"
      ]
     },
     "execution_count": 32,
     "metadata": {},
     "output_type": "execute_result"
    },
    {
     "name": "stdout",
     "output_type": "stream",
     "text": [
      "time: 43.5 ms\n"
     ]
    }
   ],
   "source": [
    "data.head()"
   ]
  },
  {
   "cell_type": "code",
   "execution_count": 14,
   "metadata": {
    "collapsed": false
   },
   "outputs": [
    {
     "name": "stdout",
     "output_type": "stream",
     "text": [
      "time: 5.5 ms\n"
     ]
    }
   ],
   "source": [
    "X = data[:, 0:9]\n",
    "\n",
    "Y = data[:, 10]"
   ]
  },
  {
   "cell_type": "code",
   "execution_count": 15,
   "metadata": {
    "collapsed": false
   },
   "outputs": [
    {
     "name": "stdout",
     "output_type": "stream",
     "text": [
      "time: 12.5 ms\n"
     ]
    }
   ],
   "source": [
    "Y = pd.Series(Y)\n",
    "\n",
    "Y = pd.get_dummies(Y)\n",
    "\n",
    "Y = Y.values"
   ]
  },
  {
   "cell_type": "code",
   "execution_count": 16,
   "metadata": {
    "collapsed": false
   },
   "outputs": [
    {
     "data": {
      "text/plain": [
       "(5400, 12)"
      ]
     },
     "execution_count": 16,
     "metadata": {},
     "output_type": "execute_result"
    },
    {
     "name": "stdout",
     "output_type": "stream",
     "text": [
      "time: 8.51 ms\n"
     ]
    }
   ],
   "source": [
    "data = np.concatenate((X, Y), axis=1)\n",
    "\n",
    "np.shape(data)"
   ]
  },
  {
   "cell_type": "code",
   "execution_count": 17,
   "metadata": {
    "collapsed": false
   },
   "outputs": [
    {
     "name": "stdout",
     "output_type": "stream",
     "text": [
      "time: 6.5 ms\n"
     ]
    }
   ],
   "source": [
    "# Y = to_categorical(Y.astype(int), 3)\n",
    "\n",
    "# np.shape(Y)"
   ]
  },
  {
   "cell_type": "code",
   "execution_count": 18,
   "metadata": {
    "collapsed": false
   },
   "outputs": [
    {
     "name": "stdout",
     "output_type": "stream",
     "text": [
      "time: 1.76 s\n"
     ]
    }
   ],
   "source": [
    "#a = Input(shape=(5400,12))\n",
    "#b = Dense(3)(a)\n",
    "\n",
    "mlp_model = Sequential()\n",
    "\n",
    "mlp_model.add(Dense(64, input_dim=9, init='uniform'))\n",
    "mlp_model.add(Activation('tanh'))\n",
    "mlp_model.add(Dropout(0.5))\n",
    "mlp_model.add(Dense(64, init='uniform'))\n",
    "mlp_model.add(Activation('tanh'))\n",
    "mlp_model.add(Dropout(0.5))\n",
    "mlp_model.add(Dense(3, init='uniform'))\n",
    "mlp_model.add(Activation('softmax'))\n",
    "\n",
    "sgd = SGD(lr=0.05, decay=1e-6, momentum=0.9, nesterov=True)\n",
    "\n",
    "mlp_model.compile(loss='categorical_crossentropy',\n",
    "              optimizer=sgd,\n",
    "              metrics=['accuracy'])"
   ]
  },
  {
   "cell_type": "code",
   "execution_count": 19,
   "metadata": {
    "collapsed": false
   },
   "outputs": [
    {
     "data": {
      "text/plain": [
       "<keras.callbacks.History at 0xb9d6630>"
      ]
     },
     "execution_count": 19,
     "metadata": {},
     "output_type": "execute_result"
    },
    {
     "name": "stdout",
     "output_type": "stream",
     "text": [
      "time: 1min 21s\n"
     ]
    }
   ],
   "source": [
    "mlp_model.fit(X, Y, batch_size=16, nb_epoch=200, verbose=0)"
   ]
  },
  {
   "cell_type": "code",
   "execution_count": 20,
   "metadata": {
    "collapsed": false
   },
   "outputs": [
    {
     "name": "stdout",
     "output_type": "stream",
     "text": [
      "time: 215 ms\n"
     ]
    }
   ],
   "source": [
    "predicted = mlp_model.predict(test_X, batch_size=20)"
   ]
  },
  {
   "cell_type": "code",
   "execution_count": 21,
   "metadata": {
    "collapsed": false
   },
   "outputs": [
    {
     "data": {
      "text/plain": [
       "array([ 0.02615849,  0.62334025,  0.35050127])"
      ]
     },
     "execution_count": 21,
     "metadata": {},
     "output_type": "execute_result"
    },
    {
     "name": "stdout",
     "output_type": "stream",
     "text": [
      "time: 4 ms\n"
     ]
    }
   ],
   "source": [
    "np.set_printoptions(suppress=True)\n",
    "\n",
    "np.mean(predicted, axis=0)"
   ]
  },
  {
   "cell_type": "code",
   "execution_count": 22,
   "metadata": {
    "collapsed": false
   },
   "outputs": [
    {
     "name": "stdout",
     "output_type": "stream",
     "text": [
      "time: 11.5 ms\n"
     ]
    }
   ],
   "source": [
    "#X = X.reshape((np.shape(X)[0], 1, np.shape(X)[1]))"
   ]
  },
  {
   "cell_type": "code",
   "execution_count": 23,
   "metadata": {
    "collapsed": false
   },
   "outputs": [
    {
     "name": "stdout",
     "output_type": "stream",
     "text": [
      "time: 4.94 s\n"
     ]
    }
   ],
   "source": [
    "lstm_model = Sequential()\n",
    "\n",
    "lstm_model.add(TimeDistributed(Dense(121), input_shape=(12, 16)))\n",
    "#lstm_model.add(TimeDistributed(Dense(5400))\n",
    "lstm_model.add(LSTM(1000, return_sequences=True))\n",
    "# lstm_model.add(TimeDistributedDense(500))\n",
    "lstm_model.add(LSTM(50, return_sequences=False))\n",
    "lstm_model.add(Dense(3, init='uniform', activation='softmax'))\n",
    "\n",
    "lstm_model.compile(optimizer=sgd,\n",
    "                   loss='categorical_crossentropy',\n",
    "                   metrics=['accuracy'])"
   ]
  },
  {
   "cell_type": "code",
   "execution_count": 24,
   "metadata": {
    "collapsed": false
   },
   "outputs": [
    {
     "name": "stdout",
     "output_type": "stream",
     "text": [
      "____________________________________________________________________________________________________\n",
      "Layer (type)                       Output Shape        Param #     Connected to                     \n",
      "====================================================================================================\n",
      "timedistributed_1 (TimeDistributed)(None, 12, 121)     2057        timedistributed_input_1[0][0]    \n",
      "____________________________________________________________________________________________________\n",
      "lstm_1 (LSTM)                      (None, 12, 1000)    4488000     timedistributed_1[0][0]          \n",
      "____________________________________________________________________________________________________\n",
      "lstm_2 (LSTM)                      (None, 50)          210200      lstm_1[0][0]                     \n",
      "____________________________________________________________________________________________________\n",
      "dense_5 (Dense)                    (None, 3)           153         lstm_2[0][0]                     \n",
      "====================================================================================================\n",
      "Total params: 4700410\n",
      "____________________________________________________________________________________________________\n",
      "time: 1.23 s\n"
     ]
    }
   ],
   "source": [
    "lstm_model.summary()"
   ]
  },
  {
   "cell_type": "code",
   "execution_count": 25,
   "metadata": {
    "collapsed": false
   },
   "outputs": [
    {
     "name": "stdout",
     "output_type": "stream",
     "text": [
      "Epoch 1/20\n"
     ]
    },
    {
     "ename": "TypeError",
     "evalue": "('Bad input argument to theano function with name \"C:\\\\Anaconda3\\\\lib\\\\site-packages\\\\keras\\\\backend\\\\theano_backend.py:514\" at index 0 (0-based)', 'Wrong number of dimensions: expected 3, got 2 with shape (32, 9).')",
     "output_type": "error",
     "traceback": [
      "\u001b[1;31m---------------------------------------------------------------------------\u001b[0m",
      "\u001b[1;31mTypeError\u001b[0m                                 Traceback (most recent call last)",
      "\u001b[1;32m<ipython-input-25-4c7d4ef7eb08>\u001b[0m in \u001b[0;36m<module>\u001b[1;34m()\u001b[0m\n\u001b[1;32m----> 1\u001b[1;33m \u001b[0mlstm_model\u001b[0m\u001b[1;33m.\u001b[0m\u001b[0mfit\u001b[0m\u001b[1;33m(\u001b[0m\u001b[0mX\u001b[0m\u001b[1;33m,\u001b[0m \u001b[0mY\u001b[0m\u001b[1;33m,\u001b[0m \u001b[0mbatch_size\u001b[0m\u001b[1;33m=\u001b[0m\u001b[1;36m32\u001b[0m\u001b[1;33m,\u001b[0m \u001b[0mnb_epoch\u001b[0m\u001b[1;33m=\u001b[0m\u001b[1;36m20\u001b[0m\u001b[1;33m,\u001b[0m \u001b[0mverbose\u001b[0m\u001b[1;33m=\u001b[0m\u001b[1;36m1\u001b[0m\u001b[1;33m)\u001b[0m\u001b[1;33m\u001b[0m\u001b[0m\n\u001b[0m",
      "\u001b[1;32mC:\\Anaconda3\\lib\\site-packages\\keras\\models.py\u001b[0m in \u001b[0;36mfit\u001b[1;34m(self, x, y, batch_size, nb_epoch, verbose, callbacks, validation_split, validation_data, shuffle, class_weight, sample_weight, **kwargs)\u001b[0m\n\u001b[0;32m    407\u001b[0m                               \u001b[0mshuffle\u001b[0m\u001b[1;33m=\u001b[0m\u001b[0mshuffle\u001b[0m\u001b[1;33m,\u001b[0m\u001b[1;33m\u001b[0m\u001b[0m\n\u001b[0;32m    408\u001b[0m                               \u001b[0mclass_weight\u001b[0m\u001b[1;33m=\u001b[0m\u001b[0mclass_weight\u001b[0m\u001b[1;33m,\u001b[0m\u001b[1;33m\u001b[0m\u001b[0m\n\u001b[1;32m--> 409\u001b[1;33m                               sample_weight=sample_weight)\n\u001b[0m\u001b[0;32m    410\u001b[0m \u001b[1;33m\u001b[0m\u001b[0m\n\u001b[0;32m    411\u001b[0m     def evaluate(self, x, y, batch_size=32, verbose=1,\n",
      "\u001b[1;32mC:\\Anaconda3\\lib\\site-packages\\keras\\engine\\training.py\u001b[0m in \u001b[0;36mfit\u001b[1;34m(self, x, y, batch_size, nb_epoch, verbose, callbacks, validation_split, validation_data, shuffle, class_weight, sample_weight)\u001b[0m\n\u001b[0;32m   1050\u001b[0m                               \u001b[0mverbose\u001b[0m\u001b[1;33m=\u001b[0m\u001b[0mverbose\u001b[0m\u001b[1;33m,\u001b[0m \u001b[0mcallbacks\u001b[0m\u001b[1;33m=\u001b[0m\u001b[0mcallbacks\u001b[0m\u001b[1;33m,\u001b[0m\u001b[1;33m\u001b[0m\u001b[0m\n\u001b[0;32m   1051\u001b[0m                               \u001b[0mval_f\u001b[0m\u001b[1;33m=\u001b[0m\u001b[0mval_f\u001b[0m\u001b[1;33m,\u001b[0m \u001b[0mval_ins\u001b[0m\u001b[1;33m=\u001b[0m\u001b[0mval_ins\u001b[0m\u001b[1;33m,\u001b[0m \u001b[0mshuffle\u001b[0m\u001b[1;33m=\u001b[0m\u001b[0mshuffle\u001b[0m\u001b[1;33m,\u001b[0m\u001b[1;33m\u001b[0m\u001b[0m\n\u001b[1;32m-> 1052\u001b[1;33m                               callback_metrics=callback_metrics)\n\u001b[0m\u001b[0;32m   1053\u001b[0m \u001b[1;33m\u001b[0m\u001b[0m\n\u001b[0;32m   1054\u001b[0m     \u001b[1;32mdef\u001b[0m \u001b[0mevaluate\u001b[0m\u001b[1;33m(\u001b[0m\u001b[0mself\u001b[0m\u001b[1;33m,\u001b[0m \u001b[0mx\u001b[0m\u001b[1;33m,\u001b[0m \u001b[0my\u001b[0m\u001b[1;33m,\u001b[0m \u001b[0mbatch_size\u001b[0m\u001b[1;33m=\u001b[0m\u001b[1;36m32\u001b[0m\u001b[1;33m,\u001b[0m \u001b[0mverbose\u001b[0m\u001b[1;33m=\u001b[0m\u001b[1;36m1\u001b[0m\u001b[1;33m,\u001b[0m \u001b[0msample_weight\u001b[0m\u001b[1;33m=\u001b[0m\u001b[1;32mNone\u001b[0m\u001b[1;33m)\u001b[0m\u001b[1;33m:\u001b[0m\u001b[1;33m\u001b[0m\u001b[0m\n",
      "\u001b[1;32mC:\\Anaconda3\\lib\\site-packages\\keras\\engine\\training.py\u001b[0m in \u001b[0;36m_fit_loop\u001b[1;34m(self, f, ins, out_labels, batch_size, nb_epoch, verbose, callbacks, val_f, val_ins, shuffle, callback_metrics)\u001b[0m\n\u001b[0;32m    788\u001b[0m                 \u001b[0mbatch_logs\u001b[0m\u001b[1;33m[\u001b[0m\u001b[1;34m'size'\u001b[0m\u001b[1;33m]\u001b[0m \u001b[1;33m=\u001b[0m \u001b[0mlen\u001b[0m\u001b[1;33m(\u001b[0m\u001b[0mbatch_ids\u001b[0m\u001b[1;33m)\u001b[0m\u001b[1;33m\u001b[0m\u001b[0m\n\u001b[0;32m    789\u001b[0m                 \u001b[0mcallbacks\u001b[0m\u001b[1;33m.\u001b[0m\u001b[0mon_batch_begin\u001b[0m\u001b[1;33m(\u001b[0m\u001b[0mbatch_index\u001b[0m\u001b[1;33m,\u001b[0m \u001b[0mbatch_logs\u001b[0m\u001b[1;33m)\u001b[0m\u001b[1;33m\u001b[0m\u001b[0m\n\u001b[1;32m--> 790\u001b[1;33m                 \u001b[0mouts\u001b[0m \u001b[1;33m=\u001b[0m \u001b[0mf\u001b[0m\u001b[1;33m(\u001b[0m\u001b[0mins_batch\u001b[0m\u001b[1;33m)\u001b[0m\u001b[1;33m\u001b[0m\u001b[0m\n\u001b[0m\u001b[0;32m    791\u001b[0m                 \u001b[1;32mif\u001b[0m \u001b[0mtype\u001b[0m\u001b[1;33m(\u001b[0m\u001b[0mouts\u001b[0m\u001b[1;33m)\u001b[0m \u001b[1;33m!=\u001b[0m \u001b[0mlist\u001b[0m\u001b[1;33m:\u001b[0m\u001b[1;33m\u001b[0m\u001b[0m\n\u001b[0;32m    792\u001b[0m                     \u001b[0mouts\u001b[0m \u001b[1;33m=\u001b[0m \u001b[1;33m[\u001b[0m\u001b[0mouts\u001b[0m\u001b[1;33m]\u001b[0m\u001b[1;33m\u001b[0m\u001b[0m\n",
      "\u001b[1;32mC:\\Anaconda3\\lib\\site-packages\\keras\\backend\\theano_backend.py\u001b[0m in \u001b[0;36m__call__\u001b[1;34m(self, inputs)\u001b[0m\n\u001b[0;32m    516\u001b[0m     \u001b[1;32mdef\u001b[0m \u001b[0m__call__\u001b[0m\u001b[1;33m(\u001b[0m\u001b[0mself\u001b[0m\u001b[1;33m,\u001b[0m \u001b[0minputs\u001b[0m\u001b[1;33m)\u001b[0m\u001b[1;33m:\u001b[0m\u001b[1;33m\u001b[0m\u001b[0m\n\u001b[0;32m    517\u001b[0m         \u001b[1;32massert\u001b[0m \u001b[0mtype\u001b[0m\u001b[1;33m(\u001b[0m\u001b[0minputs\u001b[0m\u001b[1;33m)\u001b[0m \u001b[1;32min\u001b[0m \u001b[1;33m{\u001b[0m\u001b[0mlist\u001b[0m\u001b[1;33m,\u001b[0m \u001b[0mtuple\u001b[0m\u001b[1;33m}\u001b[0m\u001b[1;33m\u001b[0m\u001b[0m\n\u001b[1;32m--> 518\u001b[1;33m         \u001b[1;32mreturn\u001b[0m \u001b[0mself\u001b[0m\u001b[1;33m.\u001b[0m\u001b[0mfunction\u001b[0m\u001b[1;33m(\u001b[0m\u001b[1;33m*\u001b[0m\u001b[0minputs\u001b[0m\u001b[1;33m)\u001b[0m\u001b[1;33m\u001b[0m\u001b[0m\n\u001b[0m\u001b[0;32m    519\u001b[0m \u001b[1;33m\u001b[0m\u001b[0m\n\u001b[0;32m    520\u001b[0m \u001b[1;33m\u001b[0m\u001b[0m\n",
      "\u001b[1;32mC:\\Anaconda3\\lib\\site-packages\\theano\\compile\\function_module.py\u001b[0m in \u001b[0;36m__call__\u001b[1;34m(self, *args, **kwargs)\u001b[0m\n\u001b[0;32m    819\u001b[0m                         s.storage[0] = s.type.filter(\n\u001b[0;32m    820\u001b[0m                             \u001b[0marg\u001b[0m\u001b[1;33m,\u001b[0m \u001b[0mstrict\u001b[0m\u001b[1;33m=\u001b[0m\u001b[0ms\u001b[0m\u001b[1;33m.\u001b[0m\u001b[0mstrict\u001b[0m\u001b[1;33m,\u001b[0m\u001b[1;33m\u001b[0m\u001b[0m\n\u001b[1;32m--> 821\u001b[1;33m                             allow_downcast=s.allow_downcast)\n\u001b[0m\u001b[0;32m    822\u001b[0m \u001b[1;33m\u001b[0m\u001b[0m\n\u001b[0;32m    823\u001b[0m                     \u001b[1;32mexcept\u001b[0m \u001b[0mException\u001b[0m \u001b[1;32mas\u001b[0m \u001b[0me\u001b[0m\u001b[1;33m:\u001b[0m\u001b[1;33m\u001b[0m\u001b[0m\n",
      "\u001b[1;32mC:\\Anaconda3\\lib\\site-packages\\theano\\tensor\\type.py\u001b[0m in \u001b[0;36mfilter\u001b[1;34m(self, data, strict, allow_downcast)\u001b[0m\n\u001b[0;32m    176\u001b[0m             raise TypeError(\"Wrong number of dimensions: expected %s,\"\n\u001b[0;32m    177\u001b[0m                             \" got %s with shape %s.\" % (self.ndim, data.ndim,\n\u001b[1;32m--> 178\u001b[1;33m                                                         data.shape))\n\u001b[0m\u001b[0;32m    179\u001b[0m         \u001b[1;32mif\u001b[0m \u001b[1;32mnot\u001b[0m \u001b[0mdata\u001b[0m\u001b[1;33m.\u001b[0m\u001b[0mflags\u001b[0m\u001b[1;33m.\u001b[0m\u001b[0maligned\u001b[0m\u001b[1;33m:\u001b[0m\u001b[1;33m\u001b[0m\u001b[0m\n\u001b[0;32m    180\u001b[0m             \u001b[1;32mtry\u001b[0m\u001b[1;33m:\u001b[0m\u001b[1;33m\u001b[0m\u001b[0m\n",
      "\u001b[1;31mTypeError\u001b[0m: ('Bad input argument to theano function with name \"C:\\\\Anaconda3\\\\lib\\\\site-packages\\\\keras\\\\backend\\\\theano_backend.py:514\" at index 0 (0-based)', 'Wrong number of dimensions: expected 3, got 2 with shape (32, 9).')"
     ]
    },
    {
     "name": "stdout",
     "output_type": "stream",
     "text": [
      "time: 26.3 s\n"
     ]
    }
   ],
   "source": [
    "lstm_model.fit(X, Y, batch_size=32, nb_epoch=20, verbose=1)"
   ]
  },
  {
   "cell_type": "code",
   "execution_count": null,
   "metadata": {
    "collapsed": false
   },
   "outputs": [],
   "source": []
  }
 ],
 "metadata": {
  "kernelspec": {
   "display_name": "Python 3",
   "language": "python",
   "name": "python3"
  },
  "language_info": {
   "codemirror_mode": {
    "name": "ipython",
    "version": 3
   },
   "file_extension": ".py",
   "mimetype": "text/x-python",
   "name": "python",
   "nbconvert_exporter": "python",
   "pygments_lexer": "ipython3",
   "version": "3.4.3"
  }
 },
 "nbformat": 4,
 "nbformat_minor": 0
}
