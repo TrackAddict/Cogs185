{
 "cells": [
  {
   "cell_type": "code",
   "execution_count": 1,
   "metadata": {
    "collapsed": true
   },
   "outputs": [],
   "source": [
    "%matplotlib inline\n",
    "\n",
    "import pyprind\n",
    "\n",
    "from IPython.display import HTML\n",
    "\n",
    "\n",
    "import numpy as np\n",
    "from numpy import genfromtxt\n",
    "\n",
    "import pandas as pd\n",
    "from pandas import DataFrame\n",
    "\n",
    "import warnings\n",
    "\n",
    "import sklearn as skl\n",
    "from sklearn.preprocessing import normalize\n",
    "from sklearn.cross_validation import KFold\n",
    "from sklearn.ensemble import RandomForestClassifier as RFC\n",
    "from sklearn.tree import DecisionTreeClassifier as DTC\n",
    "from sklearn.neighbors import KNeighborsClassifier\n",
    "from sklearn.svm import SVC\n",
    "\n",
    "import scipy.io as sio\n",
    "from scipy.spatial import distance\n",
    "\n",
    "from scipy.misc import imread, imsave, imresize\n",
    "from scipy.io import savemat, loadmat\n",
    "import matplotlib.pyplot as plt"
   ]
  },
  {
   "cell_type": "code",
   "execution_count": 2,
   "metadata": {
    "collapsed": true
   },
   "outputs": [],
   "source": [
    "def split_data(dataset, train_fraction=0.8):\n",
    "    \n",
    "    train_size = (train_fraction * np.shape(dataset)[0])\n",
    "    \n",
    "    np.random.shuffle(dataset)\n",
    "    \n",
    "    columns = np.shape(dataset)[1]-1\n",
    "    x = dataset[0::,0:columns]\n",
    "    y = dataset[0::,columns:]\n",
    "    \n",
    "    x_training, x_test = x[:train_size,:], x[train_size:,:]\n",
    "    \n",
    "    y_training, y_test = y[:train_size, :], y[train_size:, :]\n",
    "    \n",
    "    return x_training, x_test, y_training, y_test"
   ]
  },
  {
   "cell_type": "code",
   "execution_count": 3,
   "metadata": {
    "collapsed": true
   },
   "outputs": [],
   "source": [
    "def eval_RandomForest(data, test_size=.8, folds=10, Num_trees=np.arange(1, 20, 1), crit='gini'):\n",
    "    \n",
    "    columns = np.shape(data)[1]-1\n",
    "    x = data[0::,0:columns]\n",
    "    y = data[0::,columns]\n",
    "    \n",
    "    \n",
    "    temp = int(len(data) * test_size)\n",
    "    \n",
    "    kf = KFold(temp, n_folds=folds)\n",
    "    model = RFC(criterion=crit)\n",
    "    \n",
    "    \n",
    "    score_info = []\n",
    "    \n",
    "    \n",
    "    for trees in Num_trees:\n",
    "        model.n_estimators = trees\n",
    "        scores = [model.fit(x[train_indices], y[train_indices]).score(x[test_indices],y[test_indices]) for train_indices, test_indices in kf]\n",
    "        score = np.mean(scores)\n",
    "        stuff = (score, trees)\n",
    "        score_info.append(stuff)\n",
    "        \n",
    "        #print(\"CV in progress\")\n",
    "        \n",
    "        \n",
    "        \n",
    "    final_index = np.argmax(score_info, axis=0)\n",
    "\n",
    "    final_max = score_info[final_index[0]]\n",
    "    \n",
    "    print(\"Cross-Validation done\")\n",
    "\n",
    "    return final_max"
   ]
  },
  {
   "cell_type": "code",
   "execution_count": 4,
   "metadata": {
    "collapsed": true
   },
   "outputs": [],
   "source": [
    "def test_RandomForest(dataset, train_fract=0.8, num_folds=10, recover_model=False,\n",
    "                      T_range=np.arange(1, 5, 1), criterion='gini'):\n",
    "\n",
    "\n",
    "    (train_acc, T_opt) = eval_RandomForest(dataset, test_size=train_fract, folds=num_folds, \n",
    "                                           Num_trees=T_range, crit=criterion)\n",
    "\n",
    "    train_x, test_x, train_y, test_y = split_data(dataset, train_fract) \n",
    "    \n",
    "    rfc_model = RFC(n_estimators=T_opt)\n",
    "    \n",
    "    rfc_model.fit(train_x, train_y)\n",
    "    \n",
    "    print(\"Training done\")\n",
    "    \n",
    "    predicted = rfc_model.predict(test_x)\n",
    "    \n",
    "    num_correct = 0\n",
    "    \n",
    "    for i in range(0, len(predicted)):\n",
    "\n",
    "        if predicted[i] == test_y[i]:\n",
    "\n",
    "            num_correct += 1\n",
    "\n",
    "    accuracy = num_correct/len(predicted)\n",
    "\n",
    "    if recover_model:\n",
    "        return accuracy, test_x, test_y, predicted, T_opt, rfc_model\n",
    "    \n",
    "    else:\n",
    "        return accuracy, test_x, test_y, predicted, T_opt"
   ]
  },
  {
   "cell_type": "code",
   "execution_count": 5,
   "metadata": {
    "collapsed": false
   },
   "outputs": [
    {
     "data": {
      "text/plain": [
       "(164, 166)"
      ]
     },
     "execution_count": 5,
     "metadata": {},
     "output_type": "execute_result"
    }
   ],
   "source": [
    "# Just PCA on the faces\n",
    "Sample_1 = pd.read_csv(\"pca_components.csv\")\n",
    "\n",
    "# Just RPCA on the faces\n",
    "Sample_2 = pd.read_csv(\"rpca_components.csv\")\n",
    "\n",
    "#\n",
    "Sample_2_165_comp = Sample_2.drop(Sample_2.columns[164:1023], axis=1)\n",
    "\n",
    "# PCA done on the A matrix produced by RPCA\n",
    "Sample_3 = pd.read_csv(\"pca_on_rpca.csv\")\n",
    "\n",
    "#Sample_2_165_comp.shape\n",
    "Sample_3.shape"
   ]
  },
  {
   "cell_type": "code",
   "execution_count": 6,
   "metadata": {
    "collapsed": false
   },
   "outputs": [
    {
     "data": {
      "text/plain": [
       "(164, 23)"
      ]
     },
     "execution_count": 6,
     "metadata": {},
     "output_type": "execute_result"
    }
   ],
   "source": [
    "Sample_1_22_comp = Sample_1.drop(Sample_1.columns[22:165], axis=1)\n",
    "\n",
    "#Sample_1_22_comp.head\n",
    "\n",
    "Sample_2_22_comp = Sample_2_165_comp.drop(Sample_2_165_comp.columns[22:165], axis=1)\n",
    "\n",
    "Sample_3_22_comp = Sample_3.drop(Sample_3.columns[22:165], axis=1)\n",
    "\n",
    "Sample_2_22_comp.shape"
   ]
  },
  {
   "cell_type": "code",
   "execution_count": 7,
   "metadata": {
    "collapsed": false
   },
   "outputs": [
    {
     "data": {
      "text/plain": [
       "(164, 6)"
      ]
     },
     "execution_count": 7,
     "metadata": {},
     "output_type": "execute_result"
    }
   ],
   "source": [
    "Sample_1_5_comp = Sample_1.drop(Sample_1.columns[5:165], axis=1)\n",
    "\n",
    "#Sample_1_22_comp.head\n",
    "\n",
    "Sample_2_5_comp = Sample_2_165_comp.drop(Sample_2_165_comp.columns[5:165], axis=1)\n",
    "\n",
    "Sample_3_5_comp = Sample_3.drop(Sample_3.columns[5:165], axis=1)\n",
    "\n",
    "Sample_3_5_comp.shape"
   ]
  },
  {
   "cell_type": "code",
   "execution_count": 8,
   "metadata": {
    "collapsed": false
   },
   "outputs": [
    {
     "name": "stdout",
     "output_type": "stream",
     "text": [
      "Cross-Validation done\n",
      "Training done\n",
      "0.7272727272727273\n",
      "28\n"
     ]
    },
    {
     "name": "stderr",
     "output_type": "stream",
     "text": [
      "C:\\Anaconda3\\lib\\site-packages\\IPython\\kernel\\__main__.py:12: DataConversionWarning: A column-vector y was passed when a 1d array was expected. Please change the shape of y to (n_samples,), for example using ravel().\n"
     ]
    }
   ],
   "source": [
    "accuracy, test_x, test_y, predicted, T_opt = test_RandomForest(Sample_2.values, train_fract=0.8, num_folds=10,\n",
    "                                                               recover_model=False, T_range=np.arange(1, 165, 1), criterion='gini')\n",
    "\n",
    "print(accuracy)\n",
    "print(T_opt)"
   ]
  },
  {
   "cell_type": "code",
   "execution_count": 9,
   "metadata": {
    "collapsed": false
   },
   "outputs": [
    {
     "name": "stdout",
     "output_type": "stream",
     "text": [
      "Cross-Validation done\n",
      "Training done\n",
      "0.3333333333333333\n",
      "162\n"
     ]
    },
    {
     "name": "stderr",
     "output_type": "stream",
     "text": [
      "C:\\Anaconda3\\lib\\site-packages\\IPython\\kernel\\__main__.py:12: DataConversionWarning: A column-vector y was passed when a 1d array was expected. Please change the shape of y to (n_samples,), for example using ravel().\n"
     ]
    }
   ],
   "source": [
    "accuracy, test_x, test_y, predicted, T_opt = test_RandomForest(Sample_1.values, train_fract=0.8, num_folds=10,\n",
    "                                                               recover_model=False, T_range=np.arange(1, 165, 1), criterion='gini')\n",
    "\n",
    "print(accuracy)\n",
    "print(T_opt)"
   ]
  },
  {
   "cell_type": "code",
   "execution_count": 10,
   "metadata": {
    "collapsed": false
   },
   "outputs": [
    {
     "name": "stdout",
     "output_type": "stream",
     "text": [
      "Cross-Validation done\n",
      "Training done\n",
      "0.42424242424242425\n",
      "27\n"
     ]
    },
    {
     "name": "stderr",
     "output_type": "stream",
     "text": [
      "C:\\Anaconda3\\lib\\site-packages\\IPython\\kernel\\__main__.py:12: DataConversionWarning: A column-vector y was passed when a 1d array was expected. Please change the shape of y to (n_samples,), for example using ravel().\n"
     ]
    }
   ],
   "source": [
    "accuracy, test_x, test_y, predicted, T_opt = test_RandomForest(Sample_2_165_comp.values, train_fract=0.8, num_folds=10,\n",
    "                                                               recover_model=False, T_range=np.arange(1, 165, 1), criterion='gini')\n",
    "\n",
    "print(accuracy)\n",
    "print(T_opt)"
   ]
  },
  {
   "cell_type": "code",
   "execution_count": 11,
   "metadata": {
    "collapsed": false
   },
   "outputs": [
    {
     "name": "stdout",
     "output_type": "stream",
     "text": [
      "Cross-Validation done\n",
      "Training done\n",
      "0.3939393939393939\n",
      "76\n"
     ]
    },
    {
     "name": "stderr",
     "output_type": "stream",
     "text": [
      "C:\\Anaconda3\\lib\\site-packages\\IPython\\kernel\\__main__.py:12: DataConversionWarning: A column-vector y was passed when a 1d array was expected. Please change the shape of y to (n_samples,), for example using ravel().\n"
     ]
    }
   ],
   "source": [
    "accuracy, test_x, test_y, predicted, T_opt = test_RandomForest(Sample_3.values, train_fract=0.8, num_folds=10,\n",
    "                                                               recover_model=False, T_range=np.arange(1, 165, 1), criterion='gini')\n",
    "\n",
    "print(accuracy)\n",
    "print(T_opt)"
   ]
  },
  {
   "cell_type": "code",
   "execution_count": 18,
   "metadata": {
    "collapsed": false
   },
   "outputs": [
    {
     "name": "stdout",
     "output_type": "stream",
     "text": [
      "Cross-Validation done\n",
      "Training done\n",
      "0.696969696969697\n",
      "157\n"
     ]
    },
    {
     "name": "stderr",
     "output_type": "stream",
     "text": [
      "C:\\Anaconda3\\lib\\site-packages\\IPython\\kernel\\__main__.py:12: DataConversionWarning: A column-vector y was passed when a 1d array was expected. Please change the shape of y to (n_samples,), for example using ravel().\n"
     ]
    }
   ],
   "source": [
    "accuracy, test_x, test_y, predicted, T_opt = test_RandomForest(Sample_1_22_comp.values, train_fract=0.8, num_folds=10,\n",
    "                                                               recover_model=False, T_range=np.arange(1, 165, 1), criterion='gini')\n",
    "\n",
    "print(accuracy)\n",
    "print(T_opt)"
   ]
  },
  {
   "cell_type": "code",
   "execution_count": 13,
   "metadata": {
    "collapsed": false
   },
   "outputs": [
    {
     "name": "stdout",
     "output_type": "stream",
     "text": [
      "Cross-Validation done\n",
      "Training done\n",
      "0.42424242424242425\n",
      "7\n"
     ]
    },
    {
     "name": "stderr",
     "output_type": "stream",
     "text": [
      "C:\\Anaconda3\\lib\\site-packages\\IPython\\kernel\\__main__.py:12: DataConversionWarning: A column-vector y was passed when a 1d array was expected. Please change the shape of y to (n_samples,), for example using ravel().\n"
     ]
    }
   ],
   "source": [
    "accuracy, test_x, test_y, predicted, T_opt = test_RandomForest(Sample_2_22_comp.values, train_fract=0.8, num_folds=10,\n",
    "                                                               recover_model=False, T_range=np.arange(1, 200, 1), criterion='gini')\n",
    "\n",
    "print(accuracy)\n",
    "print(T_opt)"
   ]
  },
  {
   "cell_type": "code",
   "execution_count": 14,
   "metadata": {
    "collapsed": false
   },
   "outputs": [
    {
     "name": "stdout",
     "output_type": "stream",
     "text": [
      "Cross-Validation done\n",
      "Training done\n",
      "0.696969696969697\n",
      "142\n"
     ]
    },
    {
     "name": "stderr",
     "output_type": "stream",
     "text": [
      "C:\\Anaconda3\\lib\\site-packages\\IPython\\kernel\\__main__.py:12: DataConversionWarning: A column-vector y was passed when a 1d array was expected. Please change the shape of y to (n_samples,), for example using ravel().\n"
     ]
    }
   ],
   "source": [
    "accuracy, test_x, test_y, predicted, T_opt = test_RandomForest(Sample_3_22_comp.values, train_fract=0.8, num_folds=10,\n",
    "                                                               recover_model=False, T_range=np.arange(1, 165, 1), criterion='gini')\n",
    "\n",
    "print(accuracy)\n",
    "print(T_opt)"
   ]
  },
  {
   "cell_type": "code",
   "execution_count": 15,
   "metadata": {
    "collapsed": false
   },
   "outputs": [
    {
     "name": "stdout",
     "output_type": "stream",
     "text": [
      "Cross-Validation done\n",
      "Training done\n",
      "0.36363636363636365\n",
      "67\n"
     ]
    },
    {
     "name": "stderr",
     "output_type": "stream",
     "text": [
      "C:\\Anaconda3\\lib\\site-packages\\IPython\\kernel\\__main__.py:12: DataConversionWarning: A column-vector y was passed when a 1d array was expected. Please change the shape of y to (n_samples,), for example using ravel().\n"
     ]
    }
   ],
   "source": [
    "accuracy, test_x, test_y, predicted, T_opt = test_RandomForest(Sample_1_5_comp.values, train_fract=0.8, num_folds=10,\n",
    "                                                               recover_model=False, T_range=np.arange(1, 165, 1), criterion='gini')\n",
    "\n",
    "print(accuracy)\n",
    "print(T_opt)"
   ]
  },
  {
   "cell_type": "code",
   "execution_count": 16,
   "metadata": {
    "collapsed": false
   },
   "outputs": [
    {
     "name": "stdout",
     "output_type": "stream",
     "text": [
      "Cross-Validation done\n",
      "Training done\n",
      "0.3333333333333333\n",
      "137\n"
     ]
    },
    {
     "name": "stderr",
     "output_type": "stream",
     "text": [
      "C:\\Anaconda3\\lib\\site-packages\\IPython\\kernel\\__main__.py:12: DataConversionWarning: A column-vector y was passed when a 1d array was expected. Please change the shape of y to (n_samples,), for example using ravel().\n"
     ]
    }
   ],
   "source": [
    "accuracy, test_x, test_y, predicted, T_opt = test_RandomForest(Sample_2_5_comp.values, train_fract=0.8, num_folds=10,\n",
    "                                                               recover_model=False, T_range=np.arange(1, 165, 1), criterion='gini')\n",
    "\n",
    "print(accuracy)\n",
    "print(T_opt)"
   ]
  },
  {
   "cell_type": "code",
   "execution_count": 17,
   "metadata": {
    "collapsed": false
   },
   "outputs": [
    {
     "name": "stdout",
     "output_type": "stream",
     "text": [
      "Cross-Validation done\n",
      "Training done\n",
      "0.6363636363636364\n",
      "31\n"
     ]
    },
    {
     "name": "stderr",
     "output_type": "stream",
     "text": [
      "C:\\Anaconda3\\lib\\site-packages\\IPython\\kernel\\__main__.py:12: DataConversionWarning: A column-vector y was passed when a 1d array was expected. Please change the shape of y to (n_samples,), for example using ravel().\n"
     ]
    }
   ],
   "source": [
    "accuracy, test_x, test_y, predicted, T_opt = test_RandomForest(Sample_3_5_comp.values, train_fract=0.8, num_folds=10,\n",
    "                                                               recover_model=False, T_range=np.arange(1, 165, 1), criterion='gini')\n",
    "\n",
    "print(accuracy)\n",
    "print(T_opt)"
   ]
  }
 ],
 "metadata": {
  "kernelspec": {
   "display_name": "Python 3",
   "language": "python",
   "name": "python3"
  },
  "language_info": {
   "codemirror_mode": {
    "name": "ipython",
    "version": 3
   },
   "file_extension": ".py",
   "mimetype": "text/x-python",
   "name": "python",
   "nbconvert_exporter": "python",
   "pygments_lexer": "ipython3",
   "version": "3.4.3"
  }
 },
 "nbformat": 4,
 "nbformat_minor": 0
}
