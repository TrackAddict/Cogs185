{
 "cells": [
  {
   "cell_type": "code",
   "execution_count": 123,
   "metadata": {
    "collapsed": true
   },
   "outputs": [],
   "source": [
    "%matplotlib inline"
   ]
  },
  {
   "cell_type": "code",
   "execution_count": 124,
   "metadata": {
    "collapsed": true
   },
   "outputs": [],
   "source": [
    "import numpy as np\n",
    "from numpy import genfromtxt\n",
    "\n",
    "import pandas as pd\n",
    "\n",
    "import warnings\n",
    "\n",
    "import sklearn as skl\n",
    "from sklearn.preprocessing import normalize\n",
    "from sklearn.cross_validation import KFold\n",
    "from sklearn.ensemble import RandomForestClassifier as RFC\n",
    "from sklearn.tree import DecisionTreeClassifier as DTC\n",
    "from sklearn.neighbors import KNeighborsClassifier\n",
    "\n",
    "import scipy.io as sio\n",
    "from scipy.spatial import distance\n",
    "\n",
    "from scipy.misc import imread, imsave, imresize\n",
    "from scipy.io import savemat, loadmat\n",
    "import matplotlib.pyplot as plt"
   ]
  },
  {
   "cell_type": "code",
   "execution_count": 125,
   "metadata": {
    "collapsed": true
   },
   "outputs": [],
   "source": [
    "warnings.filterwarnings('ignore')"
   ]
  },
  {
   "cell_type": "code",
   "execution_count": 126,
   "metadata": {
    "collapsed": false
   },
   "outputs": [
    {
     "data": {
      "text/html": [
       "<div>\n",
       "<table border=\"1\" class=\"dataframe\">\n",
       "  <thead>\n",
       "    <tr style=\"text-align: right;\">\n",
       "      <th></th>\n",
       "      <th>Letter</th>\n",
       "      <th>X_pos</th>\n",
       "      <th>Y_pos</th>\n",
       "      <th>width</th>\n",
       "      <th>height</th>\n",
       "      <th>pixels</th>\n",
       "      <th>X_mu</th>\n",
       "      <th>Y_mu</th>\n",
       "      <th>X_sig</th>\n",
       "      <th>Y_sig</th>\n",
       "      <th>XY_corr</th>\n",
       "      <th>X*X*Y</th>\n",
       "      <th>X*Y*Y</th>\n",
       "      <th>X-edge</th>\n",
       "      <th>Corr_X-edge_Y</th>\n",
       "      <th>Y_edge</th>\n",
       "      <th>Corr_Y-edge_X</th>\n",
       "    </tr>\n",
       "  </thead>\n",
       "  <tbody>\n",
       "    <tr>\n",
       "      <th>0</th>\n",
       "      <td>I</td>\n",
       "      <td>5</td>\n",
       "      <td>12</td>\n",
       "      <td>3</td>\n",
       "      <td>7</td>\n",
       "      <td>2</td>\n",
       "      <td>10</td>\n",
       "      <td>5</td>\n",
       "      <td>5</td>\n",
       "      <td>4</td>\n",
       "      <td>13</td>\n",
       "      <td>3</td>\n",
       "      <td>9</td>\n",
       "      <td>2</td>\n",
       "      <td>8</td>\n",
       "      <td>4</td>\n",
       "      <td>10</td>\n",
       "    </tr>\n",
       "    <tr>\n",
       "      <th>1</th>\n",
       "      <td>D</td>\n",
       "      <td>4</td>\n",
       "      <td>11</td>\n",
       "      <td>6</td>\n",
       "      <td>8</td>\n",
       "      <td>6</td>\n",
       "      <td>10</td>\n",
       "      <td>6</td>\n",
       "      <td>2</td>\n",
       "      <td>6</td>\n",
       "      <td>10</td>\n",
       "      <td>3</td>\n",
       "      <td>7</td>\n",
       "      <td>3</td>\n",
       "      <td>7</td>\n",
       "      <td>3</td>\n",
       "      <td>9</td>\n",
       "    </tr>\n",
       "    <tr>\n",
       "      <th>2</th>\n",
       "      <td>N</td>\n",
       "      <td>7</td>\n",
       "      <td>11</td>\n",
       "      <td>6</td>\n",
       "      <td>6</td>\n",
       "      <td>3</td>\n",
       "      <td>5</td>\n",
       "      <td>9</td>\n",
       "      <td>4</td>\n",
       "      <td>6</td>\n",
       "      <td>4</td>\n",
       "      <td>4</td>\n",
       "      <td>10</td>\n",
       "      <td>6</td>\n",
       "      <td>10</td>\n",
       "      <td>2</td>\n",
       "      <td>8</td>\n",
       "    </tr>\n",
       "    <tr>\n",
       "      <th>3</th>\n",
       "      <td>G</td>\n",
       "      <td>2</td>\n",
       "      <td>1</td>\n",
       "      <td>3</td>\n",
       "      <td>1</td>\n",
       "      <td>1</td>\n",
       "      <td>8</td>\n",
       "      <td>6</td>\n",
       "      <td>6</td>\n",
       "      <td>6</td>\n",
       "      <td>6</td>\n",
       "      <td>5</td>\n",
       "      <td>9</td>\n",
       "      <td>1</td>\n",
       "      <td>7</td>\n",
       "      <td>5</td>\n",
       "      <td>10</td>\n",
       "    </tr>\n",
       "    <tr>\n",
       "      <th>4</th>\n",
       "      <td>S</td>\n",
       "      <td>4</td>\n",
       "      <td>11</td>\n",
       "      <td>5</td>\n",
       "      <td>8</td>\n",
       "      <td>3</td>\n",
       "      <td>8</td>\n",
       "      <td>8</td>\n",
       "      <td>6</td>\n",
       "      <td>9</td>\n",
       "      <td>5</td>\n",
       "      <td>6</td>\n",
       "      <td>6</td>\n",
       "      <td>0</td>\n",
       "      <td>8</td>\n",
       "      <td>9</td>\n",
       "      <td>7</td>\n",
       "    </tr>\n",
       "  </tbody>\n",
       "</table>\n",
       "</div>"
      ],
      "text/plain": [
       "  Letter  X_pos  Y_pos  width  height  pixels  X_mu  Y_mu  X_sig  Y_sig  \\\n",
       "0      I      5     12      3       7       2    10     5      5      4   \n",
       "1      D      4     11      6       8       6    10     6      2      6   \n",
       "2      N      7     11      6       6       3     5     9      4      6   \n",
       "3      G      2      1      3       1       1     8     6      6      6   \n",
       "4      S      4     11      5       8       3     8     8      6      9   \n",
       "\n",
       "   XY_corr  X*X*Y  X*Y*Y  X-edge  Corr_X-edge_Y  Y_edge  Corr_Y-edge_X  \n",
       "0       13      3      9       2              8       4             10  \n",
       "1       10      3      7       3              7       3              9  \n",
       "2        4      4     10       6             10       2              8  \n",
       "3        6      5      9       1              7       5             10  \n",
       "4        5      6      6       0              8       9              7  "
      ]
     },
     "execution_count": 126,
     "metadata": {},
     "output_type": "execute_result"
    }
   ],
   "source": [
    "data = pd.read_csv('letter-recognition.data.txt', delimiter=',', header=0)\n",
    "\n",
    "data.columns = ['Letter', 'X_pos', 'Y_pos', 'width', 'height', 'pixels', 'X_mu', 'Y_mu',\n",
    "                       'X_sig', 'Y_sig', 'XY_corr', \"X*X*Y\", \"X*Y*Y\", 'X-edge', 'Corr_X-edge_Y', 'Y_edge', 'Corr_Y-edge_X']\n",
    "                   \n",
    "new_cols = ['X_pos', 'Y_pos', 'width', 'height', 'pixels', 'X_mu', 'Y_mu',\n",
    "            'X_sig', 'Y_sig', 'XY_corr', \"X*X*Y\", \"X*Y*Y\", 'X-edge', 'Corr_X-edge_Y',\n",
    "            'Y_edge', 'Corr_Y-edge_X', 'Letter']\n",
    "                   \n",
    "train_letter = data.reindex(columns=new_cols)\n",
    "\n",
    "data.head()"
   ]
  },
  {
   "cell_type": "code",
   "execution_count": 127,
   "metadata": {
    "collapsed": false
   },
   "outputs": [],
   "source": [
    "data_features = data[['X_pos', 'Y_pos', 'width', 'height', 'pixels', 'X_mu', 'Y_mu',\n",
    "            'X_sig', 'Y_sig', 'XY_corr', \"X*X*Y\", \"X*Y*Y\", 'X-edge', 'Corr_X-edge_Y',\n",
    "            'Y_edge', 'Corr_Y-edge_X']]\n",
    "\n",
    "data_classes = data[['Letter']]\n",
    "\n",
    "features = data_features.astype(float)\n",
    "\n",
    "norm = normalize(features)"
   ]
  },
  {
   "cell_type": "code",
   "execution_count": 128,
   "metadata": {
    "collapsed": false
   },
   "outputs": [
    {
     "data": {
      "text/plain": [
       "array([[  5.,  12.,   3., ...,   4.,  10.,  -1.],\n",
       "       [  4.,  11.,   6., ...,   3.,   9.,  -1.],\n",
       "       [  7.,  11.,   6., ...,   2.,   8.,  -1.],\n",
       "       ..., \n",
       "       [  6.,   9.,   6., ...,   2.,   4.,  -1.],\n",
       "       [  2.,   3.,   4., ...,   5.,   8.,  -1.],\n",
       "       [  4.,   9.,   6., ...,   2.,   8.,  -1.]])"
      ]
     },
     "execution_count": 128,
     "metadata": {},
     "output_type": "execute_result"
    }
   ],
   "source": [
    "a_ova = data_classes\n",
    "\n",
    "for i in data_classes:\n",
    "    if data_classes.loc(i) == \"M\":\n",
    "        a_ova[i] = 1\n",
    "    else:\n",
    "        a_ova[i] = -1\n",
    "\n",
    "classes = a_ova.values\n",
    "\n",
    "#classes\n",
    "\n",
    "dataset = np.hstack((features, classes))\n",
    "\n",
    "dataset"
   ]
  },
  {
   "cell_type": "code",
   "execution_count": 129,
   "metadata": {
    "collapsed": true
   },
   "outputs": [],
   "source": [
    "def split_data(dataset, train_fraction=0.8):\n",
    "    \n",
    "    train_size = (train_fraction * np.shape(dataset)[0])\n",
    "    \n",
    "    np.random.shuffle(dataset)\n",
    "    \n",
    "    columns = np.shape(dataset)[1]-1\n",
    "    x = dataset[0::,0:columns]\n",
    "    y = dataset[0::,columns:]\n",
    "    \n",
    "    x_training, x_test = x[:train_size,:], x[train_size:,:]\n",
    "    \n",
    "    y_training, y_test = y[:train_size, :], y[train_size:, :]\n",
    "    \n",
    "    return x_training, x_test, y_training, y_test"
   ]
  },
  {
   "cell_type": "code",
   "execution_count": 130,
   "metadata": {
    "collapsed": true
   },
   "outputs": [],
   "source": [
    "x_train, x_test, y_train, y_test = split_data(dataset)"
   ]
  },
  {
   "cell_type": "code",
   "execution_count": 131,
   "metadata": {
    "collapsed": false
   },
   "outputs": [
    {
     "name": "stdout",
     "output_type": "stream",
     "text": [
      "4000\n"
     ]
    }
   ],
   "source": [
    "model = RFC(n_estimators=100)\n",
    "\n",
    "model.fit(x_train, y_train)\n",
    "\n",
    "predicted = model.predict(x_test)\n",
    "\n",
    "num_correct = 0\n",
    "    \n",
    "for i in range(0, len(predicted)):\n",
    "        \n",
    "    if predicted[i] == y_test[i]:\n",
    "            \n",
    "        num_correct += 1\n",
    "    \n",
    "accuracy = num_correct/len(predicted)\n",
    "    \n",
    "results = accuracy\n",
    "    \n",
    "print(num_correct)"
   ]
  },
  {
   "cell_type": "code",
   "execution_count": 132,
   "metadata": {
    "collapsed": false
   },
   "outputs": [
    {
     "data": {
      "text/plain": [
       "array(['A', 'B', 'C', 'D', 'E', 'F', 'G', 'H', 'I', 'J', 'K', 'L', 'M',\n",
       "       'N', 'O', 'P', 'Q', 'R', 'S', 'T', 'U', 'V', 'W', 'X', 'Y', 'Z'], dtype=object)"
      ]
     },
     "execution_count": 132,
     "metadata": {},
     "output_type": "execute_result"
    }
   ],
   "source": [
    "stuff = data['Letter'].values\n",
    "\n",
    "np.unique(stuff)"
   ]
  },
  {
   "cell_type": "code",
   "execution_count": 133,
   "metadata": {
    "collapsed": false
   },
   "outputs": [
    {
     "data": {
      "text/plain": [
       "122"
      ]
     },
     "execution_count": 133,
     "metadata": {},
     "output_type": "execute_result"
    }
   ],
   "source": [
    "c = \"z\"\n",
    "\n",
    "ord(c)"
   ]
  },
  {
   "cell_type": "code",
   "execution_count": 134,
   "metadata": {
    "collapsed": false
   },
   "outputs": [
    {
     "data": {
      "text/plain": [
       "array([-1., -1., -1., ..., -1., -1., -1.])"
      ]
     },
     "execution_count": 134,
     "metadata": {},
     "output_type": "execute_result"
    }
   ],
   "source": [
    "predicted"
   ]
  },
  {
   "cell_type": "code",
   "execution_count": 135,
   "metadata": {
    "collapsed": false
   },
   "outputs": [
    {
     "data": {
      "text/plain": [
       "array([[  5.,  12.,   3., ...,   4.,  10.,  -1.],\n",
       "       [  4.,  11.,   6., ...,   3.,   9.,  -1.],\n",
       "       [  7.,  11.,   6., ...,   2.,   8.,  -1.],\n",
       "       ..., \n",
       "       [  6.,   9.,   6., ...,   2.,   4.,  -1.],\n",
       "       [  2.,   3.,   4., ...,   5.,   8.,  -1.],\n",
       "       [  4.,   9.,   6., ...,   2.,   8.,  -1.]])"
      ]
     },
     "execution_count": 135,
     "metadata": {},
     "output_type": "execute_result"
    }
   ],
   "source": [
    "i_ova = data_classes\n",
    "\n",
    "for i in data_classes:\n",
    "    if data_classes.iloc(i) == \"I\":\n",
    "        i_ova[i] = 1\n",
    "    else:\n",
    "        i_ova[i] = -1\n",
    "\n",
    "classes = i_ova.values\n",
    "\n",
    "\n",
    "dataset = np.hstack((features, classes))\n",
    "\n",
    "dataset"
   ]
  },
  {
   "cell_type": "code",
   "execution_count": 136,
   "metadata": {
    "collapsed": false
   },
   "outputs": [
    {
     "name": "stdout",
     "output_type": "stream",
     "text": [
      "1.0\n"
     ]
    }
   ],
   "source": [
    "x_train, x_test, y_train, y_test = split_data(dataset)\n",
    "\n",
    "model = RFC(n_estimators=100)\n",
    "\n",
    "model.fit(x_train, y_train)\n",
    "\n",
    "i_predicted = model.predict(x_test)\n",
    "\n",
    "num_correct = 0\n",
    "    \n",
    "for i in range(0, len(predicted)):\n",
    "        \n",
    "    if i_predicted[i] == y_test[i]:\n",
    "            \n",
    "        num_correct += 1\n",
    "    \n",
    "accuracy = num_correct/len(predicted)\n",
    "    \n",
    "results = accuracy\n",
    "    \n",
    "print(accuracy)"
   ]
  },
  {
   "cell_type": "code",
   "execution_count": 138,
   "metadata": {
    "collapsed": false
   },
   "outputs": [
    {
     "data": {
      "text/html": [
       "<div>\n",
       "<table border=\"1\" class=\"dataframe\">\n",
       "  <thead>\n",
       "    <tr style=\"text-align: right;\">\n",
       "      <th></th>\n",
       "      <th>Letter</th>\n",
       "    </tr>\n",
       "  </thead>\n",
       "  <tbody>\n",
       "    <tr>\n",
       "      <th>0</th>\n",
       "      <td>-1</td>\n",
       "    </tr>\n",
       "    <tr>\n",
       "      <th>1</th>\n",
       "      <td>-1</td>\n",
       "    </tr>\n",
       "    <tr>\n",
       "      <th>2</th>\n",
       "      <td>-1</td>\n",
       "    </tr>\n",
       "    <tr>\n",
       "      <th>3</th>\n",
       "      <td>-1</td>\n",
       "    </tr>\n",
       "    <tr>\n",
       "      <th>4</th>\n",
       "      <td>-1</td>\n",
       "    </tr>\n",
       "    <tr>\n",
       "      <th>5</th>\n",
       "      <td>-1</td>\n",
       "    </tr>\n",
       "    <tr>\n",
       "      <th>6</th>\n",
       "      <td>-1</td>\n",
       "    </tr>\n",
       "    <tr>\n",
       "      <th>7</th>\n",
       "      <td>-1</td>\n",
       "    </tr>\n",
       "    <tr>\n",
       "      <th>8</th>\n",
       "      <td>-1</td>\n",
       "    </tr>\n",
       "    <tr>\n",
       "      <th>9</th>\n",
       "      <td>-1</td>\n",
       "    </tr>\n",
       "    <tr>\n",
       "      <th>10</th>\n",
       "      <td>-1</td>\n",
       "    </tr>\n",
       "    <tr>\n",
       "      <th>11</th>\n",
       "      <td>-1</td>\n",
       "    </tr>\n",
       "    <tr>\n",
       "      <th>12</th>\n",
       "      <td>-1</td>\n",
       "    </tr>\n",
       "    <tr>\n",
       "      <th>13</th>\n",
       "      <td>-1</td>\n",
       "    </tr>\n",
       "    <tr>\n",
       "      <th>14</th>\n",
       "      <td>-1</td>\n",
       "    </tr>\n",
       "    <tr>\n",
       "      <th>15</th>\n",
       "      <td>-1</td>\n",
       "    </tr>\n",
       "    <tr>\n",
       "      <th>16</th>\n",
       "      <td>-1</td>\n",
       "    </tr>\n",
       "    <tr>\n",
       "      <th>17</th>\n",
       "      <td>-1</td>\n",
       "    </tr>\n",
       "    <tr>\n",
       "      <th>18</th>\n",
       "      <td>-1</td>\n",
       "    </tr>\n",
       "    <tr>\n",
       "      <th>19</th>\n",
       "      <td>-1</td>\n",
       "    </tr>\n",
       "    <tr>\n",
       "      <th>20</th>\n",
       "      <td>-1</td>\n",
       "    </tr>\n",
       "    <tr>\n",
       "      <th>21</th>\n",
       "      <td>-1</td>\n",
       "    </tr>\n",
       "    <tr>\n",
       "      <th>22</th>\n",
       "      <td>-1</td>\n",
       "    </tr>\n",
       "    <tr>\n",
       "      <th>23</th>\n",
       "      <td>-1</td>\n",
       "    </tr>\n",
       "    <tr>\n",
       "      <th>24</th>\n",
       "      <td>-1</td>\n",
       "    </tr>\n",
       "    <tr>\n",
       "      <th>25</th>\n",
       "      <td>-1</td>\n",
       "    </tr>\n",
       "    <tr>\n",
       "      <th>26</th>\n",
       "      <td>-1</td>\n",
       "    </tr>\n",
       "    <tr>\n",
       "      <th>27</th>\n",
       "      <td>-1</td>\n",
       "    </tr>\n",
       "    <tr>\n",
       "      <th>28</th>\n",
       "      <td>-1</td>\n",
       "    </tr>\n",
       "    <tr>\n",
       "      <th>29</th>\n",
       "      <td>-1</td>\n",
       "    </tr>\n",
       "    <tr>\n",
       "      <th>...</th>\n",
       "      <td>...</td>\n",
       "    </tr>\n",
       "    <tr>\n",
       "      <th>19969</th>\n",
       "      <td>-1</td>\n",
       "    </tr>\n",
       "    <tr>\n",
       "      <th>19970</th>\n",
       "      <td>-1</td>\n",
       "    </tr>\n",
       "    <tr>\n",
       "      <th>19971</th>\n",
       "      <td>-1</td>\n",
       "    </tr>\n",
       "    <tr>\n",
       "      <th>19972</th>\n",
       "      <td>-1</td>\n",
       "    </tr>\n",
       "    <tr>\n",
       "      <th>19973</th>\n",
       "      <td>-1</td>\n",
       "    </tr>\n",
       "    <tr>\n",
       "      <th>19974</th>\n",
       "      <td>-1</td>\n",
       "    </tr>\n",
       "    <tr>\n",
       "      <th>19975</th>\n",
       "      <td>-1</td>\n",
       "    </tr>\n",
       "    <tr>\n",
       "      <th>19976</th>\n",
       "      <td>-1</td>\n",
       "    </tr>\n",
       "    <tr>\n",
       "      <th>19977</th>\n",
       "      <td>-1</td>\n",
       "    </tr>\n",
       "    <tr>\n",
       "      <th>19978</th>\n",
       "      <td>-1</td>\n",
       "    </tr>\n",
       "    <tr>\n",
       "      <th>19979</th>\n",
       "      <td>-1</td>\n",
       "    </tr>\n",
       "    <tr>\n",
       "      <th>19980</th>\n",
       "      <td>-1</td>\n",
       "    </tr>\n",
       "    <tr>\n",
       "      <th>19981</th>\n",
       "      <td>-1</td>\n",
       "    </tr>\n",
       "    <tr>\n",
       "      <th>19982</th>\n",
       "      <td>-1</td>\n",
       "    </tr>\n",
       "    <tr>\n",
       "      <th>19983</th>\n",
       "      <td>-1</td>\n",
       "    </tr>\n",
       "    <tr>\n",
       "      <th>19984</th>\n",
       "      <td>-1</td>\n",
       "    </tr>\n",
       "    <tr>\n",
       "      <th>19985</th>\n",
       "      <td>-1</td>\n",
       "    </tr>\n",
       "    <tr>\n",
       "      <th>19986</th>\n",
       "      <td>-1</td>\n",
       "    </tr>\n",
       "    <tr>\n",
       "      <th>19987</th>\n",
       "      <td>-1</td>\n",
       "    </tr>\n",
       "    <tr>\n",
       "      <th>19988</th>\n",
       "      <td>-1</td>\n",
       "    </tr>\n",
       "    <tr>\n",
       "      <th>19989</th>\n",
       "      <td>-1</td>\n",
       "    </tr>\n",
       "    <tr>\n",
       "      <th>19990</th>\n",
       "      <td>-1</td>\n",
       "    </tr>\n",
       "    <tr>\n",
       "      <th>19991</th>\n",
       "      <td>-1</td>\n",
       "    </tr>\n",
       "    <tr>\n",
       "      <th>19992</th>\n",
       "      <td>-1</td>\n",
       "    </tr>\n",
       "    <tr>\n",
       "      <th>19993</th>\n",
       "      <td>-1</td>\n",
       "    </tr>\n",
       "    <tr>\n",
       "      <th>19994</th>\n",
       "      <td>-1</td>\n",
       "    </tr>\n",
       "    <tr>\n",
       "      <th>19995</th>\n",
       "      <td>-1</td>\n",
       "    </tr>\n",
       "    <tr>\n",
       "      <th>19996</th>\n",
       "      <td>-1</td>\n",
       "    </tr>\n",
       "    <tr>\n",
       "      <th>19997</th>\n",
       "      <td>-1</td>\n",
       "    </tr>\n",
       "    <tr>\n",
       "      <th>19998</th>\n",
       "      <td>-1</td>\n",
       "    </tr>\n",
       "  </tbody>\n",
       "</table>\n",
       "<p>19999 rows × 1 columns</p>\n",
       "</div>"
      ],
      "text/plain": [
       "       Letter\n",
       "0          -1\n",
       "1          -1\n",
       "2          -1\n",
       "3          -1\n",
       "4          -1\n",
       "5          -1\n",
       "6          -1\n",
       "7          -1\n",
       "8          -1\n",
       "9          -1\n",
       "10         -1\n",
       "11         -1\n",
       "12         -1\n",
       "13         -1\n",
       "14         -1\n",
       "15         -1\n",
       "16         -1\n",
       "17         -1\n",
       "18         -1\n",
       "19         -1\n",
       "20         -1\n",
       "21         -1\n",
       "22         -1\n",
       "23         -1\n",
       "24         -1\n",
       "25         -1\n",
       "26         -1\n",
       "27         -1\n",
       "28         -1\n",
       "29         -1\n",
       "...       ...\n",
       "19969      -1\n",
       "19970      -1\n",
       "19971      -1\n",
       "19972      -1\n",
       "19973      -1\n",
       "19974      -1\n",
       "19975      -1\n",
       "19976      -1\n",
       "19977      -1\n",
       "19978      -1\n",
       "19979      -1\n",
       "19980      -1\n",
       "19981      -1\n",
       "19982      -1\n",
       "19983      -1\n",
       "19984      -1\n",
       "19985      -1\n",
       "19986      -1\n",
       "19987      -1\n",
       "19988      -1\n",
       "19989      -1\n",
       "19990      -1\n",
       "19991      -1\n",
       "19992      -1\n",
       "19993      -1\n",
       "19994      -1\n",
       "19995      -1\n",
       "19996      -1\n",
       "19997      -1\n",
       "19998      -1\n",
       "\n",
       "[19999 rows x 1 columns]"
      ]
     },
     "execution_count": 138,
     "metadata": {},
     "output_type": "execute_result"
    }
   ],
   "source": [
    "i_ova"
   ]
  },
  {
   "cell_type": "code",
   "execution_count": null,
   "metadata": {
    "collapsed": true
   },
   "outputs": [],
   "source": []
  }
 ],
 "metadata": {
  "kernelspec": {
   "display_name": "Python 3",
   "language": "python",
   "name": "python3"
  },
  "language_info": {
   "codemirror_mode": {
    "name": "ipython",
    "version": 3
   },
   "file_extension": ".py",
   "mimetype": "text/x-python",
   "name": "python",
   "nbconvert_exporter": "python",
   "pygments_lexer": "ipython3",
   "version": "3.4.3"
  }
 },
 "nbformat": 4,
 "nbformat_minor": 0
}
